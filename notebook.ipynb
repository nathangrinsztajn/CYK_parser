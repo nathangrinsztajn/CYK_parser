{
 "cells": [
  {
   "cell_type": "code",
   "execution_count": 1,
   "metadata": {
    "collapsed": false
   },
   "outputs": [
    {
     "data": {
      "text/plain": [
       "'3.6.8 |Anaconda, Inc.| (default, Dec 29 2018, 19:04:46) \\n[GCC 4.2.1 Compatible Clang 4.0.1 (tags/RELEASE_401/final)]'"
      ]
     },
     "execution_count": 1,
     "metadata": {},
     "output_type": "execute_result"
    }
   ],
   "source": [
    "import sys\n",
    "sys.version"
   ]
  },
  {
   "cell_type": "code",
   "execution_count": 2,
   "metadata": {},
   "outputs": [],
   "source": [
    "from nltk.tree import Tree, ParentedTree\n",
    "import nltk\n",
    "import re"
   ]
  },
  {
   "cell_type": "code",
   "execution_count": 165,
   "metadata": {},
   "outputs": [],
   "source": [
    "grammar = {}\n",
    "lexicon = {}\n",
    "#grammar_chomsky = {}\n",
    "\n",
    "def is_not_POS(x, phrase):\n",
    "    t = Tree.fromstring(phrase)\n",
    "    return x in t.leaves()\n",
    "\n",
    "def remove_leaf(p):\n",
    "    t = Tree.fromstring(p)\n",
    "    for w in t.leaves():\n",
    "        p = p.replace(\" \" + w, \"\")\n",
    "    return p\n",
    "\n",
    "def remove_function(p):\n",
    "    \"\"\"\n",
    "    :param p: string\n",
    "    :return: string without functional tags\n",
    "    \"\"\"\n",
    "    return re.sub(r'-[^ ]*', \"\", p)\n",
    "\n",
    "def deal_with_P(p):\n",
    "    return remove_function(remove_leaf(p[2: -1]))\n",
    "\n",
    "def parcour_tree(t):\n",
    "    for child in t:\n",
    "        l.append([t.label(), child.label()])\n",
    "        parcour_tree(child)\n",
    "        \n",
    "def parcour_tree_fin(t):\n",
    "    \"\"\"\n",
    "    :param t: binarized tree\n",
    "    :return: fill grammar and lexicon in place\n",
    "    \"\"\"\n",
    "    lab_cur = remove_function(t.label())\n",
    "    if isinstance(t[0], str):\n",
    "        lexicon[t[0]] = lexicon.get(t[0], {})\n",
    "        lexicon[t[0]][lab_cur] = lexicon[t[0]].get(lab_cur, 0) + 1\n",
    "        #lexicon.append([remove_function(t.label()), t[0]])\n",
    "    else:\n",
    "        child_t = []\n",
    "        for child in t:\n",
    "            child_t.append(remove_function(child.label()))\n",
    "        child_t = tuple(child_t)\n",
    "        grammar[lab_cur] = grammar.get(lab_cur, {})\n",
    "        grammar[lab_cur][child_t] =  grammar[lab_cur].get(child_t, 0)+1\n",
    "        for child in t:\n",
    "            parcour_tree_fin(child)\n",
    "            \n",
    "\"\"\"           \n",
    "count = [0]\n",
    "storage = {}\n",
    "\"\"\" \n",
    "\n",
    "def binarize_tree(t):\n",
    "    \"\"\"\n",
    "    :param t: tree\n",
    "    :return: binarized tree with new nodes\n",
    "    \"\"\"\n",
    "    #child = [binarize_tree(child)]\n",
    "    if isinstance(t[0], str):\n",
    "        return t\n",
    "    if len(t)<=2:\n",
    "        return Tree(t.label(), [binarize_tree(child) for child in t])\n",
    "    else:\n",
    "        new_pos = ''\n",
    "        for child in t[1:]:\n",
    "            new_pos = new_pos+'|'+child.label()\n",
    "        new_pos = new_pos[1:]\n",
    "        return Tree(t.label(), [binarize_tree(t[0]), Tree(new_pos, [binarize_tree(child) for child in t[1:]])])\n",
    "\n",
    "def remove_function_tree(t):\n",
    "    if not isinstance(t, str):\n",
    "        return Tree(remove_function(t.label()), [remove_function_tree(child) for child in t])\n",
    "    return t"
   ]
  },
  {
   "cell_type": "code",
   "execution_count": 615,
   "metadata": {},
   "outputs": [
    {
     "data": {
      "image/png": "[encoded data removed]",
      "text/plain": [
       "Tree('SENT', [Tree('ADVWH', ['Pourquoi']), Tree('NP', [Tree('DET', ['ce']), Tree('NC', ['thème'])]), Tree('PONCT', ['?'])])"
      ]
     },
     "metadata": {},
     "output_type": "display_data"
    }
   ],
   "source": [
    "t = Tree.fromstring(\"(SENT (ADVWH Pourquoi) (NP (DET ce) (NC thème)) (PONCT ?))\")\n",
    "t"
   ]
  },
  {
   "cell_type": "code",
   "execution_count": 616,
   "metadata": {},
   "outputs": [
    {
     "data": {
      "image/png": "[encoded data removed]",
      "text/plain": [
       "Tree('SENT', [Tree('ADVWH', ['Pourquoi']), Tree('NP|PONCT', [Tree('NP', [Tree('DET', ['ce']), Tree('NC', ['thème'])]), Tree('PONCT', ['?'])])])"
      ]
     },
     "metadata": {},
     "output_type": "display_data"
    }
   ],
   "source": [
    "#sanity check\n",
    "binarize_tree(t)"
   ]
  },
  {
   "cell_type": "code",
   "execution_count": 166,
   "metadata": {},
   "outputs": [],
   "source": [
    "# Chomsky's grammar\n",
    "\n",
    "def normalize_grammar(g):\n",
    "    \"\"\"\n",
    "    :param g: grammar (dict of dict of count)\n",
    "    :return: normalized grammar (dict of dict of probability)\n",
    "    \"\"\"\n",
    "    for pos in g.keys():\n",
    "        count = sum(g[pos].values())\n",
    "        for key in g[pos].keys():\n",
    "            g[pos][key] /= count\n",
    "    return g\n",
    "\n",
    "#sanity check\n",
    "#print(grammar)\n",
    "#normalize_grammar(grammar)"
   ]
  },
  {
   "cell_type": "code",
   "execution_count": 167,
   "metadata": {},
   "outputs": [],
   "source": [
    "# Load dataset\n",
    "#there are 3099 lines in the whole dataset\n",
    "\n",
    "#fill the path\n",
    "filepath = '/Users/anneabeille/Documents/MVA/Speech/parser/sequoia-corpus+fct.mrg_strict' \n",
    "\n",
    "with open(filepath, encoding='utf-8') as input_file:\n",
    "    lines=input_file.readlines()\n",
    "    train = lines[int(len(lines)*0.1):int(len(lines)*0.9)]\n",
    "    test = lines[int(len(lines)*0.9):]\n",
    "    val = lines[:int(len(lines)*0.1)]\n",
    "    \n",
    "grammar = {}\n",
    "lexicon = {}"
   ]
  },
  {
   "cell_type": "code",
   "execution_count": 169,
   "metadata": {},
   "outputs": [],
   "source": [
    "for line in train:\n",
    "    t = Tree.fromstring(line[2: -2])\n",
    "    t = binarize_tree(t)\n",
    "    parcour_tree_fin(t)\n",
    "    \n",
    "grammar = normalize_grammar(grammar)"
   ]
  },
  {
   "cell_type": "code",
   "execution_count": 170,
   "metadata": {},
   "outputs": [
    {
     "name": "stdout",
     "output_type": "stream",
     "text": [
      "3749\n39\n"
     ]
    }
   ],
   "source": [
    "#nombre de règles de la grammaire\n",
    "\n",
    "number_rules=0\n",
    "number_unit_rules = 0\n",
    "for pos in grammar:\n",
    "    number_rules += len(grammar[pos])\n",
    "    for key in grammar[pos]:\n",
    "        if len(key)==1:\n",
    "            number_unit_rules += 1\n",
    "print(number_rules)\n",
    "print(number_unit_rules)"
   ]
  },
  {
   "cell_type": "code",
   "execution_count": 380,
   "metadata": {},
   "outputs": [],
   "source": [
    "def remove_unit_grammar(grammar):\n",
    "    still_unit = False\n",
    "    for pos in grammar:\n",
    "        for key in list(grammar[pos]):\n",
    "            if len(key)==1:\n",
    "                proba = grammar[pos].pop(key)\n",
    "                for new_key in list(grammar.get(key[0], {})):\n",
    "                    grammar[pos][new_key] = grammar[pos].get(new_key, 0)\n",
    "                    grammar[pos][new_key] = grammar[pos][new_key] + proba*grammar[key[0]][new_key]\n",
    "                still_unit = True\n",
    "    return grammar, still_unit"
   ]
  },
  {
   "cell_type": "code",
   "execution_count": 386,
   "metadata": {},
   "outputs": [],
   "source": [
    "still_unit_in_g = True\n",
    "while still_unit_in_g:\n",
    "    grammar, still_unit_in_g = remove_unit_grammar(grammar)\n",
    "\n",
    "#need to renormalize\n",
    "grammar = normalize_grammar(grammar)"
   ]
  },
  {
   "cell_type": "code",
   "execution_count": 387,
   "metadata": {},
   "outputs": [
    {
     "name": "stdout",
     "output_type": "stream",
     "text": [
      "False\n7929\n0\n"
     ]
    }
   ],
   "source": [
    "print(bool)\n",
    "#nombre de règles de la grammaire\n",
    "\n",
    "number_rules=0\n",
    "number_unit_rules = 0\n",
    "for pos in grammar:\n",
    "    number_rules += len(grammar[pos])\n",
    "    for key in grammar[pos]:\n",
    "        if len(key)==1:\n",
    "            number_unit_rules += 1\n",
    "\n",
    "print(number_rules)\n",
    "\n",
    "#sanity check\n",
    "print(number_unit_rules)"
   ]
  },
  {
   "cell_type": "code",
   "execution_count": 228,
   "metadata": {},
   "outputs": [],
   "source": [
    "def invert_grammar(g):\n",
    "    g_inv = {}\n",
    "    for w, dic in g.items():\n",
    "        for pos, number in dic.items():\n",
    "            g_inv[pos] = g_inv.get(pos, {})\n",
    "            g_inv[pos][w] = number\n",
    "    return g_inv\n",
    "\n",
    "lexicon_inv = invert_grammar(lexicon)        \n",
    "lexicon_inv = normalize_grammar(lexicon_inv)\n",
    "lexicon_norm = invert_grammar(lexicon_inv)\n",
    "grammar_inv = invert_grammar(grammar)"
   ]
  },
  {
   "cell_type": "code",
   "execution_count": 258,
   "metadata": {},
   "outputs": [],
   "source": [
    "### CYK ###\n",
    "def first_non_terminaux_from_words(s):\n",
    "    non_term_list = []\n",
    "    for w in s:\n",
    "        wdic = lexicon_norm[w]\n",
    "        nwdic = {k:[v] for (k, v) in wdic.items()}\n",
    "        add_every_unary(nwdic)\n",
    "        sum_norm = sum(val[0] for val in nwdic.values())\n",
    "        for pos in nwdic.keys():\n",
    "            nwdic[pos][0] = nwdic[pos][0]/sum_norm \n",
    "        non_term_list.append(nwdic)\n",
    "    return non_term_list\n",
    "\n",
    "def generate_couple(j, i):\n",
    "    return [[k, i, j-1-k, i+1+k] for k in range(j)]\n",
    "\n",
    "def iter_cyk(wlistlist):\n",
    "    pos_list = []\n",
    "    for i in range(len(wlistlist[-1])-1):\n",
    "        liste_couple = generate_couple(len(wlistlist), i)\n",
    "        new_dic = {}\n",
    "        for couple in liste_couple:\n",
    "            dic_g = wlistlist[couple[0]][couple[1]]\n",
    "            dic_d = wlistlist[couple[2]][couple[3]]\n",
    "            for pos1, v1 in dic_g.items():\n",
    "                for pos2, v2 in dic_d.items():\n",
    "                    #inutile maintenant#\n",
    "                    if not isinstance(v1, float):\n",
    "                        v1 = v1[0]\n",
    "                    if not isinstance(v2, float):\n",
    "                        v2 = v2[0]\n",
    "                    ### ###\n",
    "                    for pos_father, proba_trans in grammar_inv.get((pos1, pos2), {}).items():\n",
    "                        current_proba = new_dic.get(pos_father, [0])[0]\n",
    "                        if proba_trans*v1*v2 > current_proba:\n",
    "                            #on a trouvé un meilleur chemin pour pos_father\n",
    "                            new_dic[pos_father] = [proba_trans*v1*v2, pos1, pos2, couple]       \n",
    "        # Handling unary rules\n",
    "        add_every_unary(new_dic)\n",
    "        #\n",
    "        \n",
    "        #on normalise pour éviter les erreurs d'arrondis\n",
    "        \"\"\"\n",
    "        sum_norm = sum(val[0] for val in new_dic.values())\n",
    "        for pos in new_dic.keys():\n",
    "            new_dic[pos][0] = new_dic[pos][0]/sum_norm \n",
    "        \"\"\"\n",
    "        pos_list.append(new_dic)\n",
    "        \n",
    "    return pos_list\n",
    "\n",
    "def cyk(s):\n",
    "    l = [first_non_terminaux_from_words(s)]\n",
    "    while len(l[-1])>1:\n",
    "        l.append(iter_cyk(l))\n",
    "    return l\n",
    "\n",
    "def _create_sub_tree(cyk_list, pos, coordinates, s):\n",
    "    if len(cyk_list[coordinates[0]][coordinates[1]][pos])==1:\n",
    "        #on a atteint une feuille\n",
    "        return Tree(pos, [Tree(s[coordinates[1]], [])]) \n",
    "    if len(cyk_list[coordinates[0]][coordinates[1]][pos])==2:\n",
    "        #unary rule\n",
    "        npos = cyk_list[coordinates[0]][coordinates[1]][pos][1]\n",
    "        return Tree(pos, [_create_sub_tree(cyk_list, npos, coordinates, s)]) \n",
    "    pos1 = cyk_list[coordinates[0]][coordinates[1]][pos][1]\n",
    "    pos2 = cyk_list[coordinates[0]][coordinates[1]][pos][2]\n",
    "    coordinates1 = cyk_list[coordinates[0]][coordinates[1]][pos][3][:2]\n",
    "    coordinates2 = cyk_list[coordinates[0]][coordinates[1]][pos][3][2:]\n",
    "    return Tree(pos, [_create_sub_tree(cyk_list, pos1, coordinates1, s), _create_sub_tree(cyk_list, pos2, coordinates2, s)])\n",
    "\n",
    "def _tree_from_cyk(cyk_list, s): \n",
    "    if cyk_list[-1][0].get('SENT', [0])[0] == 0:\n",
    "        print(\"The sentence is not in the grammar\")\n",
    "        return Tree('not', [Tree('in', []), Tree('grammar', [])])\n",
    "    else:\n",
    "        return _create_sub_tree(cyk_list, 'SENT', [len(cyk_list)-1, 0], s)\n",
    "\n",
    "def tree_from_sentence(s):\n",
    "    return _tree_from_cyk(cyk(s), s)"
   ]
  },
  {
   "cell_type": "code",
   "execution_count": 259,
   "metadata": {},
   "outputs": [],
   "source": [
    "### CYK with unary rules : possible to recover the \"real\" tree\n",
    "\n",
    "def _add_unary_tab_once(dico):\n",
    "    still_unit = False\n",
    "    for pos_from in list(dico.keys()):\n",
    "        pos_from = (pos_from,)\n",
    "        for pos_to in list(grammar_inv.get(pos_from, {})):\n",
    "            if grammar[pos_to][pos_from]*dico[pos_from[0]][0] > dico.get(pos_to, [0])[0]:\n",
    "                dico[pos_to] = [grammar[pos_to][pos_from]*dico[pos_from[0]][0], pos_from[0]]\n",
    "                still_unit = True\n",
    "    return still_unit\n",
    "\n",
    "def add_every_unary(dico):\n",
    "    again = True\n",
    "    while again:\n",
    "        again = _add_unary_tab_once(dico)\n",
    "        \n",
    "def debinarize(t):\n",
    "    \"\"\"\n",
    "    :param t: binary tree with made-up nodes\n",
    "    :return: \"true\" binary tree, with nodes in the initial grammar\n",
    "    \"\"\"\n",
    "    if len(t[0])==0: #leaf\n",
    "        return t\n",
    "    if len(t)==1: #une branche\n",
    "        return Tree(t.label(), [debinarize(t[0])])\n",
    "    if \"|\" in t[1].label(): #symbol in grammar\n",
    "        right_child = debinarize(t[1])\n",
    "        return Tree(t.label(), [debinarize(t[0])] + [great_child for great_child in right_child ])\n",
    "    return Tree(t.label(), [debinarize(t[0])] + [debinarize(t[1])])\n",
    "\n",
    "def bracket_to_list(b):\n",
    "    return Tree.fromstring(b).leaves()\n",
    "\n",
    "def tree_to_string(tree):\n",
    "    if len(tree)==0:\n",
    "        return tree.label()\n",
    "    if isinstance(tree, str):\n",
    "        return tree\n",
    "    else:\n",
    "        l = [tree_to_string(child) for child in tree]\n",
    "        s = '(' + tree.label() + ' '\n",
    "        for lc in l:\n",
    "            s = s + lc\n",
    "        s = s + ')'\n",
    "        return s"
   ]
  },
  {
   "cell_type": "code",
   "execution_count": 14,
   "metadata": {},
   "outputs": [],
   "source": [
    "s2 = \"( (SENT (VPinf (VN (VINF Lire)) (NP-OBJ (DET la) (NC notice)) (PP-MOD (P avant) (NP (NC usage)))) (PONCT .)))\"\n",
    "t = Tree.fromstring(s2)\n",
    "t2 = remove_function_tree(t)"
   ]
  },
  {
   "cell_type": "code",
   "execution_count": 20,
   "metadata": {},
   "outputs": [
    {
     "ename": "KeyboardInterrupt",
     "evalue": "",
     "traceback": [
      "\u001b[0;31m---------------------------------------------------------------------------\u001b[0m",
      "\u001b[0;31mKeyboardInterrupt\u001b[0m                         Traceback (most recent call last)",
      "\u001b[0;32m<ipython-input-20-b6433e9b7877>\u001b[0m in \u001b[0;36m<module>\u001b[0;34m\u001b[0m\n\u001b[0;32m----> 1\u001b[0;31m \u001b[0mt2\u001b[0m\u001b[0;34m.\u001b[0m\u001b[0mdraw\u001b[0m\u001b[0;34m(\u001b[0m\u001b[0;34m)\u001b[0m\u001b[0;34m\u001b[0m\u001b[0;34m\u001b[0m\u001b[0m\n\u001b[0m",
      "\u001b[0;32m~/anaconda3/lib/python3.6/site-packages/nltk/tree.py\u001b[0m in \u001b[0;36mdraw\u001b[0;34m(self)\u001b[0m\n\u001b[1;32m    744\u001b[0m         \u001b[0;32mfrom\u001b[0m \u001b[0mnltk\u001b[0m\u001b[0;34m.\u001b[0m\u001b[0mdraw\u001b[0m\u001b[0;34m.\u001b[0m\u001b[0mtree\u001b[0m \u001b[0;32mimport\u001b[0m \u001b[0mdraw_trees\u001b[0m\u001b[0;34m\u001b[0m\u001b[0;34m\u001b[0m\u001b[0m\n\u001b[1;32m    745\u001b[0m \u001b[0;34m\u001b[0m\u001b[0m\n\u001b[0;32m--> 746\u001b[0;31m         \u001b[0mdraw_trees\u001b[0m\u001b[0;34m(\u001b[0m\u001b[0mself\u001b[0m\u001b[0;34m)\u001b[0m\u001b[0;34m\u001b[0m\u001b[0;34m\u001b[0m\u001b[0m\n\u001b[0m\u001b[1;32m    747\u001b[0m \u001b[0;34m\u001b[0m\u001b[0m\n\u001b[1;32m    748\u001b[0m     \u001b[0;32mdef\u001b[0m \u001b[0mpretty_print\u001b[0m\u001b[0;34m(\u001b[0m\u001b[0mself\u001b[0m\u001b[0;34m,\u001b[0m \u001b[0msentence\u001b[0m\u001b[0;34m=\u001b[0m\u001b[0;32mNone\u001b[0m\u001b[0;34m,\u001b[0m \u001b[0mhighlight\u001b[0m\u001b[0;34m=\u001b[0m\u001b[0;34m(\u001b[0m\u001b[0;34m)\u001b[0m\u001b[0;34m,\u001b[0m \u001b[0mstream\u001b[0m\u001b[0;34m=\u001b[0m\u001b[0;32mNone\u001b[0m\u001b[0;34m,\u001b[0m \u001b[0;34m**\u001b[0m\u001b[0mkwargs\u001b[0m\u001b[0;34m)\u001b[0m\u001b[0;34m:\u001b[0m\u001b[0;34m\u001b[0m\u001b[0;34m\u001b[0m\u001b[0m\n",
      "\u001b[0;32m~/anaconda3/lib/python3.6/site-packages/nltk/draw/tree.py\u001b[0m in \u001b[0;36mdraw_trees\u001b[0;34m(*trees)\u001b[0m\n\u001b[1;32m   1006\u001b[0m     \u001b[0;34m:\u001b[0m\u001b[0mrtype\u001b[0m\u001b[0;34m:\u001b[0m \u001b[0;32mNone\u001b[0m\u001b[0;34m\u001b[0m\u001b[0;34m\u001b[0m\u001b[0m\n\u001b[1;32m   1007\u001b[0m     \"\"\"\n\u001b[0;32m-> 1008\u001b[0;31m     \u001b[0mTreeView\u001b[0m\u001b[0;34m(\u001b[0m\u001b[0;34m*\u001b[0m\u001b[0mtrees\u001b[0m\u001b[0;34m)\u001b[0m\u001b[0;34m.\u001b[0m\u001b[0mmainloop\u001b[0m\u001b[0;34m(\u001b[0m\u001b[0;34m)\u001b[0m\u001b[0;34m\u001b[0m\u001b[0;34m\u001b[0m\u001b[0m\n\u001b[0m\u001b[1;32m   1009\u001b[0m     \u001b[0;32mreturn\u001b[0m\u001b[0;34m\u001b[0m\u001b[0;34m\u001b[0m\u001b[0m\n\u001b[1;32m   1010\u001b[0m \u001b[0;34m\u001b[0m\u001b[0m\n",
      "\u001b[0;32m~/anaconda3/lib/python3.6/site-packages/nltk/draw/tree.py\u001b[0m in \u001b[0;36mmainloop\u001b[0;34m(self, *args, **kwargs)\u001b[0m\n\u001b[1;32m    996\u001b[0m         \u001b[0;32mif\u001b[0m \u001b[0min_idle\u001b[0m\u001b[0;34m(\u001b[0m\u001b[0;34m)\u001b[0m\u001b[0;34m:\u001b[0m\u001b[0;34m\u001b[0m\u001b[0;34m\u001b[0m\u001b[0m\n\u001b[1;32m    997\u001b[0m             \u001b[0;32mreturn\u001b[0m\u001b[0;34m\u001b[0m\u001b[0;34m\u001b[0m\u001b[0m\n\u001b[0;32m--> 998\u001b[0;31m         \u001b[0mself\u001b[0m\u001b[0;34m.\u001b[0m\u001b[0m_top\u001b[0m\u001b[0;34m.\u001b[0m\u001b[0mmainloop\u001b[0m\u001b[0;34m(\u001b[0m\u001b[0;34m*\u001b[0m\u001b[0margs\u001b[0m\u001b[0;34m,\u001b[0m \u001b[0;34m**\u001b[0m\u001b[0mkwargs\u001b[0m\u001b[0;34m)\u001b[0m\u001b[0;34m\u001b[0m\u001b[0;34m\u001b[0m\u001b[0m\n\u001b[0m\u001b[1;32m    999\u001b[0m \u001b[0;34m\u001b[0m\u001b[0m\n\u001b[1;32m   1000\u001b[0m \u001b[0;34m\u001b[0m\u001b[0m\n",
      "\u001b[0;32m~/anaconda3/lib/python3.6/tkinter/__init__.py\u001b[0m in \u001b[0;36mmainloop\u001b[0;34m(self, n)\u001b[0m\n\u001b[1;32m   1281\u001b[0m     \u001b[0;32mdef\u001b[0m \u001b[0mmainloop\u001b[0m\u001b[0;34m(\u001b[0m\u001b[0mself\u001b[0m\u001b[0;34m,\u001b[0m \u001b[0mn\u001b[0m\u001b[0;34m=\u001b[0m\u001b[0;36m0\u001b[0m\u001b[0;34m)\u001b[0m\u001b[0;34m:\u001b[0m\u001b[0;34m\u001b[0m\u001b[0;34m\u001b[0m\u001b[0m\n\u001b[1;32m   1282\u001b[0m         \u001b[0;34m\"\"\"Call the mainloop of Tk.\"\"\"\u001b[0m\u001b[0;34m\u001b[0m\u001b[0;34m\u001b[0m\u001b[0m\n\u001b[0;32m-> 1283\u001b[0;31m         \u001b[0mself\u001b[0m\u001b[0;34m.\u001b[0m\u001b[0mtk\u001b[0m\u001b[0;34m.\u001b[0m\u001b[0mmainloop\u001b[0m\u001b[0;34m(\u001b[0m\u001b[0mn\u001b[0m\u001b[0;34m)\u001b[0m\u001b[0;34m\u001b[0m\u001b[0;34m\u001b[0m\u001b[0m\n\u001b[0m\u001b[1;32m   1284\u001b[0m     \u001b[0;32mdef\u001b[0m \u001b[0mquit\u001b[0m\u001b[0;34m(\u001b[0m\u001b[0mself\u001b[0m\u001b[0;34m)\u001b[0m\u001b[0;34m:\u001b[0m\u001b[0;34m\u001b[0m\u001b[0;34m\u001b[0m\u001b[0m\n\u001b[1;32m   1285\u001b[0m         \u001b[0;34m\"\"\"Quit the Tcl interpreter. All widgets will be destroyed.\"\"\"\u001b[0m\u001b[0;34m\u001b[0m\u001b[0;34m\u001b[0m\u001b[0m\n",
      "\u001b[0;31mKeyboardInterrupt\u001b[0m: "
     ],
     "output_type": "error"
    }
   ],
   "source": [
    "t2.draw()"
   ]
  },
  {
   "cell_type": "code",
   "execution_count": 22,
   "metadata": {},
   "outputs": [
    {
     "ename": "KeyboardInterrupt",
     "evalue": "",
     "traceback": [
      "\u001b[0;31m---------------------------------------------------------------------------\u001b[0m",
      "\u001b[0;31mKeyboardInterrupt\u001b[0m                         Traceback (most recent call last)",
      "\u001b[0;32m<ipython-input-22-2d8881db878e>\u001b[0m in \u001b[0;36m<module>\u001b[0;34m\u001b[0m\n\u001b[0;32m----> 1\u001b[0;31m \u001b[0mdebinarize\u001b[0m\u001b[0;34m(\u001b[0m\u001b[0mtree_from_sentence\u001b[0m\u001b[0;34m(\u001b[0m\u001b[0mbracket_to_list\u001b[0m\u001b[0;34m(\u001b[0m\u001b[0ms2\u001b[0m\u001b[0;34m)\u001b[0m\u001b[0;34m)\u001b[0m\u001b[0;34m)\u001b[0m\u001b[0;34m.\u001b[0m\u001b[0mdraw\u001b[0m\u001b[0;34m(\u001b[0m\u001b[0;34m)\u001b[0m\u001b[0;34m\u001b[0m\u001b[0;34m\u001b[0m\u001b[0m\n\u001b[0m",
      "\u001b[0;32m~/anaconda3/lib/python3.6/site-packages/nltk/tree.py\u001b[0m in \u001b[0;36mdraw\u001b[0;34m(self)\u001b[0m\n\u001b[1;32m    744\u001b[0m         \u001b[0;32mfrom\u001b[0m \u001b[0mnltk\u001b[0m\u001b[0;34m.\u001b[0m\u001b[0mdraw\u001b[0m\u001b[0;34m.\u001b[0m\u001b[0mtree\u001b[0m \u001b[0;32mimport\u001b[0m \u001b[0mdraw_trees\u001b[0m\u001b[0;34m\u001b[0m\u001b[0;34m\u001b[0m\u001b[0m\n\u001b[1;32m    745\u001b[0m \u001b[0;34m\u001b[0m\u001b[0m\n\u001b[0;32m--> 746\u001b[0;31m         \u001b[0mdraw_trees\u001b[0m\u001b[0;34m(\u001b[0m\u001b[0mself\u001b[0m\u001b[0;34m)\u001b[0m\u001b[0;34m\u001b[0m\u001b[0;34m\u001b[0m\u001b[0m\n\u001b[0m\u001b[1;32m    747\u001b[0m \u001b[0;34m\u001b[0m\u001b[0m\n\u001b[1;32m    748\u001b[0m     \u001b[0;32mdef\u001b[0m \u001b[0mpretty_print\u001b[0m\u001b[0;34m(\u001b[0m\u001b[0mself\u001b[0m\u001b[0;34m,\u001b[0m \u001b[0msentence\u001b[0m\u001b[0;34m=\u001b[0m\u001b[0;32mNone\u001b[0m\u001b[0;34m,\u001b[0m \u001b[0mhighlight\u001b[0m\u001b[0;34m=\u001b[0m\u001b[0;34m(\u001b[0m\u001b[0;34m)\u001b[0m\u001b[0;34m,\u001b[0m \u001b[0mstream\u001b[0m\u001b[0;34m=\u001b[0m\u001b[0;32mNone\u001b[0m\u001b[0;34m,\u001b[0m \u001b[0;34m**\u001b[0m\u001b[0mkwargs\u001b[0m\u001b[0;34m)\u001b[0m\u001b[0;34m:\u001b[0m\u001b[0;34m\u001b[0m\u001b[0;34m\u001b[0m\u001b[0m\n",
      "\u001b[0;32m~/anaconda3/lib/python3.6/site-packages/nltk/draw/tree.py\u001b[0m in \u001b[0;36mdraw_trees\u001b[0;34m(*trees)\u001b[0m\n\u001b[1;32m   1006\u001b[0m     \u001b[0;34m:\u001b[0m\u001b[0mrtype\u001b[0m\u001b[0;34m:\u001b[0m \u001b[0;32mNone\u001b[0m\u001b[0;34m\u001b[0m\u001b[0;34m\u001b[0m\u001b[0m\n\u001b[1;32m   1007\u001b[0m     \"\"\"\n\u001b[0;32m-> 1008\u001b[0;31m     \u001b[0mTreeView\u001b[0m\u001b[0;34m(\u001b[0m\u001b[0;34m*\u001b[0m\u001b[0mtrees\u001b[0m\u001b[0;34m)\u001b[0m\u001b[0;34m.\u001b[0m\u001b[0mmainloop\u001b[0m\u001b[0;34m(\u001b[0m\u001b[0;34m)\u001b[0m\u001b[0;34m\u001b[0m\u001b[0;34m\u001b[0m\u001b[0m\n\u001b[0m\u001b[1;32m   1009\u001b[0m     \u001b[0;32mreturn\u001b[0m\u001b[0;34m\u001b[0m\u001b[0;34m\u001b[0m\u001b[0m\n\u001b[1;32m   1010\u001b[0m \u001b[0;34m\u001b[0m\u001b[0m\n",
      "\u001b[0;32m~/anaconda3/lib/python3.6/site-packages/nltk/draw/tree.py\u001b[0m in \u001b[0;36mmainloop\u001b[0;34m(self, *args, **kwargs)\u001b[0m\n\u001b[1;32m    996\u001b[0m         \u001b[0;32mif\u001b[0m \u001b[0min_idle\u001b[0m\u001b[0;34m(\u001b[0m\u001b[0;34m)\u001b[0m\u001b[0;34m:\u001b[0m\u001b[0;34m\u001b[0m\u001b[0;34m\u001b[0m\u001b[0m\n\u001b[1;32m    997\u001b[0m             \u001b[0;32mreturn\u001b[0m\u001b[0;34m\u001b[0m\u001b[0;34m\u001b[0m\u001b[0m\n\u001b[0;32m--> 998\u001b[0;31m         \u001b[0mself\u001b[0m\u001b[0;34m.\u001b[0m\u001b[0m_top\u001b[0m\u001b[0;34m.\u001b[0m\u001b[0mmainloop\u001b[0m\u001b[0;34m(\u001b[0m\u001b[0;34m*\u001b[0m\u001b[0margs\u001b[0m\u001b[0;34m,\u001b[0m \u001b[0;34m**\u001b[0m\u001b[0mkwargs\u001b[0m\u001b[0;34m)\u001b[0m\u001b[0;34m\u001b[0m\u001b[0;34m\u001b[0m\u001b[0m\n\u001b[0m\u001b[1;32m    999\u001b[0m \u001b[0;34m\u001b[0m\u001b[0m\n\u001b[1;32m   1000\u001b[0m \u001b[0;34m\u001b[0m\u001b[0m\n",
      "\u001b[0;32m~/anaconda3/lib/python3.6/tkinter/__init__.py\u001b[0m in \u001b[0;36mmainloop\u001b[0;34m(self, n)\u001b[0m\n\u001b[1;32m   1281\u001b[0m     \u001b[0;32mdef\u001b[0m \u001b[0mmainloop\u001b[0m\u001b[0;34m(\u001b[0m\u001b[0mself\u001b[0m\u001b[0;34m,\u001b[0m \u001b[0mn\u001b[0m\u001b[0;34m=\u001b[0m\u001b[0;36m0\u001b[0m\u001b[0;34m)\u001b[0m\u001b[0;34m:\u001b[0m\u001b[0;34m\u001b[0m\u001b[0;34m\u001b[0m\u001b[0m\n\u001b[1;32m   1282\u001b[0m         \u001b[0;34m\"\"\"Call the mainloop of Tk.\"\"\"\u001b[0m\u001b[0;34m\u001b[0m\u001b[0;34m\u001b[0m\u001b[0m\n\u001b[0;32m-> 1283\u001b[0;31m         \u001b[0mself\u001b[0m\u001b[0;34m.\u001b[0m\u001b[0mtk\u001b[0m\u001b[0;34m.\u001b[0m\u001b[0mmainloop\u001b[0m\u001b[0;34m(\u001b[0m\u001b[0mn\u001b[0m\u001b[0;34m)\u001b[0m\u001b[0;34m\u001b[0m\u001b[0;34m\u001b[0m\u001b[0m\n\u001b[0m\u001b[1;32m   1284\u001b[0m     \u001b[0;32mdef\u001b[0m \u001b[0mquit\u001b[0m\u001b[0;34m(\u001b[0m\u001b[0mself\u001b[0m\u001b[0;34m)\u001b[0m\u001b[0;34m:\u001b[0m\u001b[0;34m\u001b[0m\u001b[0;34m\u001b[0m\u001b[0m\n\u001b[1;32m   1285\u001b[0m         \u001b[0;34m\"\"\"Quit the Tcl interpreter. All widgets will be destroyed.\"\"\"\u001b[0m\u001b[0;34m\u001b[0m\u001b[0;34m\u001b[0m\u001b[0m\n",
      "\u001b[0;31mKeyboardInterrupt\u001b[0m: "
     ],
     "output_type": "error"
    }
   ],
   "source": [
    "debinarize(tree_from_sentence(bracket_to_list(s2))).draw()"
   ]
  },
  {
   "cell_type": "code",
   "execution_count": 185,
   "metadata": {},
   "outputs": [
    {
     "data": {
      "image/png": "[encoded data removed]",
      "text/plain": [
       "Tree('SENT', [Tree('NP-SUJ', [Tree('DET', ['Une']), Tree('ADJ', ['jeune']), Tree('NC', ['fille']), Tree('PP', [Tree('P', ['de']), Tree('NP', [Tree('DET', ['25']), Tree('NC', ['ans'])])]), Tree('VPpart', [Tree('VPP', ['hébergée']), Tree('PP-P_OBJ', [Tree('P', ['chez']), Tree('NP', [Tree('DET', ['des']), Tree('NC', ['parents'])])]), Tree('PP-MOD', [Tree('P', ['à']), Tree('NP', [Tree('NPP', ['Courcelles-lès-Montbéliard'])])])])]), Tree('PONCT', [',']), Tree('VN', [Tree('V', ['était']), Tree('VPP', ['signalée'])]), Tree('VPpart-ATS', [Tree('VPP', ['disparue'])]), Tree('PONCT', ['.'])])"
      ]
     },
     "metadata": {},
     "output_type": "display_data"
    }
   ],
   "source": [
    "Tree.fromstring(train[68][2:-2])"
   ]
  },
  {
   "cell_type": "code",
   "execution_count": 187,
   "metadata": {},
   "outputs": [
    {
     "data": {
      "image/png": "[encoded data removed]",
      "text/plain": [
       "Tree('SENT', [Tree('NP', [Tree('NP', [Tree('DET', [Tree('Une', [])]), Tree('ADJ', [Tree('jeune', [])]), Tree('NC', [Tree('fille', [])])]), Tree('PP', [Tree('P', [Tree('de', [])]), Tree('NP', [Tree('DET', [Tree('25', [])]), Tree('NC', [Tree('ans', [])]), Tree('VPpart', [Tree('VPP', [Tree('VPP', [Tree('hébergée', [])]), Tree('PP', [Tree('P', [Tree('chez', [])]), Tree('NP', [Tree('DET', [Tree('des', [])]), Tree('NC', [Tree('parents', [])])])])]), Tree('PP', [Tree('PP', [Tree('P', [Tree('à', [])]), Tree('NP', [Tree('NPP', [Tree('Courcelles-lès-Montbéliard', [])])])]), Tree('PONCT', [Tree(',', [])])])])])])]), Tree('VN', [Tree('V', [Tree('était', [])]), Tree('VPP', [Tree('signalée', [])]), Tree('VPP', [Tree('disparue', [])])]), Tree('PONCT', [Tree('.', [])])])"
      ]
     },
     "metadata": {},
     "output_type": "display_data"
    }
   ],
   "source": [
    "debinarize(tree_from_sentence(bracket_to_list(train[68][2:-2])))"
   ]
  },
  {
   "cell_type": "code",
   "execution_count": 17,
   "metadata": {},
   "outputs": [
    {
     "ename": "LookupError",
     "evalue": "\n\n===========================================================================\nNLTK was unable to find the gs file!\nUse software specific configuration paramaters or set the PATH environment variable.\n===========================================================================",
     "traceback": [
      "\u001b[0;31m---------------------------------------------------------------------------\u001b[0m",
      "\u001b[0;31mLookupError\u001b[0m                               Traceback (most recent call last)",
      "\u001b[0;32m~/anaconda3/lib/python3.6/site-packages/IPython/core/formatters.py\u001b[0m in \u001b[0;36m__call__\u001b[0;34m(self, obj)\u001b[0m\n\u001b[1;32m    343\u001b[0m             \u001b[0mmethod\u001b[0m \u001b[0;34m=\u001b[0m \u001b[0mget_real_method\u001b[0m\u001b[0;34m(\u001b[0m\u001b[0mobj\u001b[0m\u001b[0;34m,\u001b[0m \u001b[0mself\u001b[0m\u001b[0;34m.\u001b[0m\u001b[0mprint_method\u001b[0m\u001b[0;34m)\u001b[0m\u001b[0;34m\u001b[0m\u001b[0;34m\u001b[0m\u001b[0m\n\u001b[1;32m    344\u001b[0m             \u001b[0;32mif\u001b[0m \u001b[0mmethod\u001b[0m \u001b[0;32mis\u001b[0m \u001b[0;32mnot\u001b[0m \u001b[0;32mNone\u001b[0m\u001b[0;34m:\u001b[0m\u001b[0;34m\u001b[0m\u001b[0;34m\u001b[0m\u001b[0m\n\u001b[0;32m--> 345\u001b[0;31m                 \u001b[0;32mreturn\u001b[0m \u001b[0mmethod\u001b[0m\u001b[0;34m(\u001b[0m\u001b[0;34m)\u001b[0m\u001b[0;34m\u001b[0m\u001b[0;34m\u001b[0m\u001b[0m\n\u001b[0m\u001b[1;32m    346\u001b[0m             \u001b[0;32mreturn\u001b[0m \u001b[0;32mNone\u001b[0m\u001b[0;34m\u001b[0m\u001b[0;34m\u001b[0m\u001b[0m\n\u001b[1;32m    347\u001b[0m         \u001b[0;32melse\u001b[0m\u001b[0;34m:\u001b[0m\u001b[0;34m\u001b[0m\u001b[0;34m\u001b[0m\u001b[0m\n",
      "\u001b[0;32m~/anaconda3/lib/python3.6/site-packages/nltk/tree.py\u001b[0m in \u001b[0;36m_repr_png_\u001b[0;34m(self)\u001b[0m\n\u001b[1;32m    795\u001b[0m                         \u001b[0mbinary_names\u001b[0m\u001b[0;34m=\u001b[0m\u001b[0;34m[\u001b[0m\u001b[0;34m'gswin32c.exe'\u001b[0m\u001b[0;34m,\u001b[0m \u001b[0;34m'gswin64c.exe'\u001b[0m\u001b[0;34m]\u001b[0m\u001b[0;34m,\u001b[0m\u001b[0;34m\u001b[0m\u001b[0;34m\u001b[0m\u001b[0m\n\u001b[1;32m    796\u001b[0m                         \u001b[0menv_vars\u001b[0m\u001b[0;34m=\u001b[0m\u001b[0;34m[\u001b[0m\u001b[0;34m'PATH'\u001b[0m\u001b[0;34m]\u001b[0m\u001b[0;34m,\u001b[0m\u001b[0;34m\u001b[0m\u001b[0;34m\u001b[0m\u001b[0m\n\u001b[0;32m--> 797\u001b[0;31m                         \u001b[0mverbose\u001b[0m\u001b[0;34m=\u001b[0m\u001b[0;32mFalse\u001b[0m\u001b[0;34m,\u001b[0m\u001b[0;34m\u001b[0m\u001b[0;34m\u001b[0m\u001b[0m\n\u001b[0m\u001b[1;32m    798\u001b[0m                     )\n\u001b[1;32m    799\u001b[0m                 ]\n",
      "\u001b[0;32m~/anaconda3/lib/python3.6/site-packages/nltk/internals.py\u001b[0m in \u001b[0;36mfind_binary\u001b[0;34m(name, path_to_bin, env_vars, searchpath, binary_names, url, verbose)\u001b[0m\n\u001b[1;32m    694\u001b[0m     return next(\n\u001b[1;32m    695\u001b[0m         find_binary_iter(\n\u001b[0;32m--> 696\u001b[0;31m             \u001b[0mname\u001b[0m\u001b[0;34m,\u001b[0m \u001b[0mpath_to_bin\u001b[0m\u001b[0;34m,\u001b[0m \u001b[0menv_vars\u001b[0m\u001b[0;34m,\u001b[0m \u001b[0msearchpath\u001b[0m\u001b[0;34m,\u001b[0m \u001b[0mbinary_names\u001b[0m\u001b[0;34m,\u001b[0m \u001b[0murl\u001b[0m\u001b[0;34m,\u001b[0m \u001b[0mverbose\u001b[0m\u001b[0;34m\u001b[0m\u001b[0;34m\u001b[0m\u001b[0m\n\u001b[0m\u001b[1;32m    697\u001b[0m         )\n\u001b[1;32m    698\u001b[0m     )\n",
      "\u001b[0;32m~/anaconda3/lib/python3.6/site-packages/nltk/internals.py\u001b[0m in \u001b[0;36mfind_binary_iter\u001b[0;34m(name, path_to_bin, env_vars, searchpath, binary_names, url, verbose)\u001b[0m\n\u001b[1;32m    678\u001b[0m     \"\"\"\n\u001b[1;32m    679\u001b[0m     for file in find_file_iter(\n\u001b[0;32m--> 680\u001b[0;31m         \u001b[0mpath_to_bin\u001b[0m \u001b[0;32mor\u001b[0m \u001b[0mname\u001b[0m\u001b[0;34m,\u001b[0m \u001b[0menv_vars\u001b[0m\u001b[0;34m,\u001b[0m \u001b[0msearchpath\u001b[0m\u001b[0;34m,\u001b[0m \u001b[0mbinary_names\u001b[0m\u001b[0;34m,\u001b[0m \u001b[0murl\u001b[0m\u001b[0;34m,\u001b[0m \u001b[0mverbose\u001b[0m\u001b[0;34m\u001b[0m\u001b[0;34m\u001b[0m\u001b[0m\n\u001b[0m\u001b[1;32m    681\u001b[0m     ):\n\u001b[1;32m    682\u001b[0m         \u001b[0;32myield\u001b[0m \u001b[0mfile\u001b[0m\u001b[0;34m\u001b[0m\u001b[0;34m\u001b[0m\u001b[0m\n",
      "\u001b[0;32m~/anaconda3/lib/python3.6/site-packages/nltk/internals.py\u001b[0m in \u001b[0;36mfind_file_iter\u001b[0;34m(filename, env_vars, searchpath, file_names, url, verbose, finding_dir)\u001b[0m\n\u001b[1;32m    636\u001b[0m             \u001b[0mmsg\u001b[0m \u001b[0;34m+=\u001b[0m \u001b[0;34m'\\n\\n  For more information on %s, see:\\n    <%s>'\u001b[0m \u001b[0;34m%\u001b[0m \u001b[0;34m(\u001b[0m\u001b[0mfilename\u001b[0m\u001b[0;34m,\u001b[0m \u001b[0murl\u001b[0m\u001b[0;34m)\u001b[0m\u001b[0;34m\u001b[0m\u001b[0;34m\u001b[0m\u001b[0m\n\u001b[1;32m    637\u001b[0m         \u001b[0mdiv\u001b[0m \u001b[0;34m=\u001b[0m \u001b[0;34m'='\u001b[0m \u001b[0;34m*\u001b[0m \u001b[0;36m75\u001b[0m\u001b[0;34m\u001b[0m\u001b[0;34m\u001b[0m\u001b[0m\n\u001b[0;32m--> 638\u001b[0;31m         \u001b[0;32mraise\u001b[0m \u001b[0mLookupError\u001b[0m\u001b[0;34m(\u001b[0m\u001b[0;34m'\\n\\n%s\\n%s\\n%s'\u001b[0m \u001b[0;34m%\u001b[0m \u001b[0;34m(\u001b[0m\u001b[0mdiv\u001b[0m\u001b[0;34m,\u001b[0m \u001b[0mmsg\u001b[0m\u001b[0;34m,\u001b[0m \u001b[0mdiv\u001b[0m\u001b[0;34m)\u001b[0m\u001b[0;34m)\u001b[0m\u001b[0;34m\u001b[0m\u001b[0;34m\u001b[0m\u001b[0m\n\u001b[0m\u001b[1;32m    639\u001b[0m \u001b[0;34m\u001b[0m\u001b[0m\n\u001b[1;32m    640\u001b[0m \u001b[0;34m\u001b[0m\u001b[0m\n",
      "\u001b[0;31mLookupError\u001b[0m: \n\n===========================================================================\nNLTK was unable to find the gs file!\nUse software specific configuration paramaters or set the PATH environment variable.\n==========================================================================="
     ],
     "output_type": "error"
    },
    {
     "data": {
      "text/plain": [
       "Tree('SENT', [Tree('NP', [Tree('DET', [Tree('les', [])]), Tree('NC', [Tree('élus', [])])]), Tree('VN|PONCT', [Tree('VN', [Tree('V', [Tree('votent', [])])]), Tree('PONCT', [Tree('.', [])])])])"
      ]
     },
     "execution_count": 17,
     "metadata": {},
     "output_type": "execute_result"
    }
   ],
   "source": [
    "tree_from_sentence([\"les\", \"élus\", \"votent\", \".\"])"
   ]
  },
  {
   "cell_type": "code",
   "execution_count": 506,
   "metadata": {},
   "outputs": [
    {
     "name": "stdout",
     "output_type": "stream",
     "text": [
      "NP\nVN|PONCT\n[1, 0]\n[3, 2]\nDET\nNC\n[0, 0]\n[0, 1]\nVN\nPONCT\n[2, 2]\n[0, 5]\nV\nNP\n[0, 2]\n[1, 3]\nDET\nNC\n[0, 3]\n[0, 4]\n"
     ]
    },
    {
     "data": {
      "image/png": "[encoded data removed]",
      "text/plain": [
       "Tree('SENT', [Tree('NP', [Tree('DET', [Tree('les', [])]), Tree('NC', [Tree('élus', [])])]), Tree('VN|PONCT', [Tree('VN', [Tree('V', [Tree('votent', [])]), Tree('NP', [Tree('DET', [Tree('la', [])]), Tree('NC', [Tree('proportionnelle', [])])])]), Tree('PONCT', [Tree('.', [])])])])"
      ]
     },
     "metadata": {},
     "output_type": "display_data"
    }
   ],
   "source": [
    "tree_from_cyk(cyk([\"les\", \"élus\", \"votent\", 'la', \"proportionnelle\", \".\"]), [\"les\", \"élus\", \"votent\", 'la', \"proportionnelle\", \".\"])"
   ]
  },
  {
   "cell_type": "code",
   "execution_count": null,
   "metadata": {},
   "outputs": [],
   "source": [
    ""
   ]
  },
  {
   "cell_type": "code",
   "execution_count": 32,
   "metadata": {},
   "outputs": [],
   "source": [
    "sent = \"\"\"(SENT (NP (NPP Paris) (PONCT ,) (NP-MOD (NC ville) (PP (P de) (NP (NC lumière))))) (PONCT !))\"\"\""
   ]
  },
  {
   "cell_type": "code",
   "execution_count": 33,
   "metadata": {},
   "outputs": [],
   "source": [
    "sentn = bracket_to_list(sent)"
   ]
  },
  {
   "cell_type": "code",
   "execution_count": 35,
   "metadata": {},
   "outputs": [
    {
     "data": {
      "image/png": "[encoded data removed]",
      "text/plain": [
       "Tree('SENT', [Tree('NP', [Tree('NPP', [Tree('Paris', [])]), Tree('COORD', [Tree('PONCT', [Tree(',', [])]), Tree('NP', [Tree('NC', [Tree('ville', [])]), Tree('PP', [Tree('P', [Tree('de', [])]), Tree('NP', [Tree('NC', [Tree('lumière', [])])])])])])]), Tree('PONCT', [Tree('!', [])])])"
      ]
     },
     "metadata": {},
     "output_type": "display_data"
    }
   ],
   "source": [
    "debinarize(tree_from_sentence(sentn))"
   ]
  },
  {
   "cell_type": "code",
   "execution_count": 11,
   "metadata": {},
   "outputs": [
    {
     "data": {
      "image/png": "[encoded data removed]",
      "text/plain": [
       "Tree('SENT', [Tree('PONCT', ['\"']), Tree('NP', [Tree('NPP', ['Paris']), Tree('PONCT', [',']), Tree('NP', [Tree('NC', ['ville']), Tree('PP', [Tree('P', ['de']), Tree('NP', [Tree('NC', ['lumière'])])])])]), Tree('PONCT', ['!']), Tree('PONCT', ['\"'])])"
      ]
     },
     "metadata": {},
     "output_type": "display_data"
    }
   ],
   "source": [
    "remove_function_tree(Tree.fromstring(sent))"
   ]
  },
  {
   "cell_type": "code",
   "execution_count": 14,
   "metadata": {},
   "outputs": [
    {
     "data": {
      "image/png": "[encoded data removed]",
      "text/plain": [
       "Tree('SENT', [Tree('PONCT', ['\"']), Tree('NP', [Tree('NPP', ['Paris']), Tree('PONCT', [',']), Tree('NP-MOD', [Tree('NC', ['ville']), Tree('PP', [Tree('P', ['de']), Tree('NP', [Tree('NC', ['lumière'])])])])]), Tree('PONCT', ['!']), Tree('PONCT', ['\"'])])"
      ]
     },
     "metadata": {},
     "output_type": "display_data"
    }
   ],
   "source": [
    "Tree.fromstring(sent)"
   ]
  },
  {
   "cell_type": "code",
   "execution_count": 523,
   "metadata": {},
   "outputs": [
    {
     "name": "stdout",
     "output_type": "stream",
     "text": [
      "NP\nNP|PONCT\n[2, 0]\n[4, 3]\nPONCT\nNPP|PONCT\n[0, 0]\n[1, 1]\nNPP\nPONCT\n[0, 1]\n[0, 2]\nNP\nPONCT\n[3, 3]\n[0, 7]\nNC\nPP\n[0, 3]\n[2, 4]\nP\nNP\n[0, 4]\n[1, 5]\nNC\nPONCT\n[0, 5]\n[0, 6]\n"
     ]
    },
    {
     "data": {
      "image/png": "[encoded data removed]",
      "text/plain": [
       "Tree('SENT', [Tree('NP', [Tree('PONCT', [Tree(\"'\", [])]), Tree('NPP|PONCT', [Tree('NPP', [Tree('Paris', [])]), Tree('PONCT', [Tree(',', [])])])]), Tree('NP|PONCT', [Tree('NP', [Tree('NC', [Tree('ville', [])]), Tree('PP', [Tree('P', [Tree('de', [])]), Tree('NP', [Tree('NC', [Tree('lumière', [])]), Tree('PONCT', [Tree('!', [])])])])]), Tree('PONCT', [Tree(\"'\", [])])])])"
      ]
     },
     "metadata": {},
     "output_type": "display_data"
    }
   ],
   "source": [
    "tree_from_sentence(sent_n)"
   ]
  },
  {
   "cell_type": "code",
   "execution_count": 36,
   "metadata": {},
   "outputs": [],
   "source": [
    "s = \"( (SENT (VPinf (VN (VINF Lire)) (NP-OBJ (DET la) (NC notice)) (PP-MOD (P avant) (NP (NC usage)))) (PONCT .)))\"\n",
    "T = Tree.fromstring(s)"
   ]
  },
  {
   "cell_type": "code",
   "execution_count": 56,
   "metadata": {},
   "outputs": [
    {
     "data": {
      "text/plain": [
       "'( (SENT   (VPinf     (VN (VINF Lire))     (NP-OBJ (DET la) (NC notice))     (PP-MOD (P avant) (NP (NC usage))))   (PONCT .)))'"
      ]
     },
     "execution_count": 56,
     "metadata": {},
     "output_type": "execute_result"
    }
   ],
   "source": [
    "str(T).replace('\\n ', '')"
   ]
  },
  {
   "cell_type": "code",
   "execution_count": 59,
   "metadata": {},
   "outputs": [
    {
     "data": {
      "image/png": "[encoded data removed]",
      "text/plain": [
       "Tree('aze', [])"
      ]
     },
     "metadata": {},
     "output_type": "display_data"
    }
   ],
   "source": [
    "Tree('aze', [])"
   ]
  },
  {
   "cell_type": "code",
   "execution_count": 141,
   "metadata": {},
   "outputs": [],
   "source": [
    "# OOV"
   ]
  },
  {
   "cell_type": "code",
   "execution_count": null,
   "metadata": {},
   "outputs": [],
   "source": [
    ""
   ]
  },
  {
   "cell_type": "code",
   "execution_count": 116,
   "metadata": {},
   "outputs": [
    {
     "data": {
      "text/plain": [
       "'(SENT (NP-SUJ (DET Les) (NC enfants)) (VN (V fêtent)) (NP-OBJ (NC saint) (NPP Honoré)))'"
      ]
     },
     "execution_count": 116,
     "metadata": {},
     "output_type": "execute_result"
    }
   ],
   "source": [
    "s2"
   ]
  },
  {
   "cell_type": "code",
   "execution_count": 142,
   "metadata": {},
   "outputs": [
    {
     "data": {
      "text/plain": [
       "'(SENT (NP-SUJ (DET Les)(NC enfants))(VN (V fêtent))(NP-OBJ (NC saint)(NPP Honoré)))'"
      ]
     },
     "execution_count": 142,
     "metadata": {},
     "output_type": "execute_result"
    }
   ],
   "source": [
    "tree_to_string(T.fromstring(s2))"
   ]
  },
  {
   "cell_type": "code",
   "execution_count": 114,
   "metadata": {},
   "outputs": [
    {
     "data": {
      "image/png": "[encoded data removed]",
      "text/plain": [
       "Tree('SENT', [Tree('NP', [Tree('NPP', ['Paris']), Tree('COORD', [Tree('PONCT', [',']), Tree('NP', [Tree('NC', ['ville']), Tree('PP', [Tree('P', ['de']), Tree('NP', [Tree('NC', ['lumière'])])])])])]), Tree('PONCT', ['!'])])"
      ]
     },
     "metadata": {},
     "output_type": "display_data"
    }
   ],
   "source": [
    "Tree.fromstring(tree_to_string(debinarize(tree_from_sentence(sentn))))"
   ]
  },
  {
   "cell_type": "code",
   "execution_count": 541,
   "metadata": {},
   "outputs": [],
   "source": [
    "grammar = normalize_grammar(grammar)\n",
    "still_unit_in_g = True\n",
    "while still_unit_in_g:\n",
    "    grammar, still_unit_in_g = remove_unit_grammar(grammar)\n",
    "\n",
    "#need to renormalize\n",
    "grammar = normalize_grammar(grammar)"
   ]
  },
  {
   "cell_type": "code",
   "execution_count": 619,
   "metadata": {},
   "outputs": [
    {
     "data": {
      "image/png": "[encoded data removed]",
      "text/plain": [
       "Tree('', [Tree('SENT', [Tree('NP', [Tree('NC', ['Nom']), Tree('PP', [Tree('P', ['de']), Tree('NP', [Tree('NC', ['fantaisie'])])])])])])"
      ]
     },
     "metadata": {},
     "output_type": "display_data"
    }
   ],
   "source": [
    "Tree.fromstring(\"( (SENT (NP (NC Nom) (PP (P de) (NP (NC fantaisie))))))\")"
   ]
  },
  {
   "cell_type": "code",
   "execution_count": 632,
   "metadata": {},
   "outputs": [
    {
     "name": "stdout",
     "output_type": "stream",
     "text": [
      "NC\nPP\n[0, 0]\n[1, 1]\nP\nNP\n[0, 1]\n[0, 2]\n"
     ]
    },
    {
     "data": {
      "image/png": "[encoded data removed]",
      "text/plain": [
       "Tree('SENT', [Tree('NP', [Tree('NC', [Tree('Nom', [])]), Tree('PP', [Tree('P', [Tree('de', [])]), Tree('NP', [Tree('NC', [Tree('fantaisie', [])])])])])])"
      ]
     },
     "metadata": {},
     "output_type": "display_data"
    }
   ],
   "source": [
    "tree_from_sentence([\"Nom\", \"de\", \"fantaisie\"])"
   ]
  },
  {
   "cell_type": "code",
   "execution_count": 623,
   "metadata": {},
   "outputs": [
    {
     "data": {
      "text/plain": [
       "[[{'NC': [0.00016554920950252462],\n   'SENT': [2.6258564712812928e-06, 'NP'],\n   'NP': [2.2301794687594544e-05, 'NC'],\n   'AP': [5.559073522583097e-08, 'NC'],\n   'PP': [1.3651931126098523e-08, 'NP'],\n   'COORD': [1.4141911659857034e-08, 'NP']},\n  {'DET': [0.006874241811564901],\n   'P': [0.34069178852643417],\n   'NP': [4.577639882509756e-07, 'DET'],\n   'PP': [0.00029197386382040144, 'P'],\n   'SENT': [4.7092558680709913e-07, 'PP'],\n   'COORD': [2.9027519863727053e-10, 'NP']},\n  {'NC': [8.277460475126231e-05],\n   'SENT': [1.3129282356406464e-06, 'NP'],\n   'NP': [1.1150897343797272e-05, 'NC'],\n   'AP': [2.7795367612915485e-08, 'NC'],\n   'PP': [6.825965563049261e-09, 'NP'],\n   'COORD': [7.070955829928517e-09, 'NP']}],\n [{'NP': [0.0428572881766297, 'NC', 'PP', [0, 0, 0, 1]],\n   'NC|NP': [0.0012903239611752766, 'NC', 'NP', [0, 0, 0, 1]],\n   'NC|PP': [0.82300242525377, 'NC', 'PP', [0, 0, 0, 1]],\n   'NC|COORD': [8.182143063888883e-07, 'NC', 'COORD', [0, 0, 0, 1]],\n   'PP': [0.01583856302179793, 'NP', 'P', [0, 0, 0, 1]],\n   'SENT': [0.0050461000595064, 'NP'],\n   'Srel': [0.00047788767738183414, 'NP', 'PP', [0, 0, 0, 1]],\n   'NP|NP': [0.0001738246902482243, 'NP', 'NP', [0, 0, 0, 1]],\n   'NP|PP': [0.11086994115258551, 'NP', 'PP', [0, 0, 0, 1]],\n   'NP|COORD': [1.1022491455182266e-07, 'NP', 'COORD', [0, 0, 0, 1]],\n   'AP|NP': [4.3328541342353153e-07, 'AP', 'NP', [0, 0, 0, 1]],\n   'AP': [3.7120320688576313e-07, 'AP', 'PP', [0, 0, 0, 1]],\n   'AP|PP': [0.00027636078752645064, 'AP', 'PP', [0, 0, 0, 1]],\n   'AP|COORD': [2.7475295714872e-10, 'AP', 'COORD', [0, 0, 0, 1]],\n   'Sint': [1.1692956851733402e-09, 'PP', 'NP', [0, 0, 0, 1]],\n   'PP|NP': [9.120506344352053e-08, 'PP', 'NP', [0, 0, 0, 1]],\n   'PP|PP': [6.786847524031925e-05, 'PP', 'PP', [0, 0, 0, 1]],\n   'PP|COORD': [6.747362546022444e-11, 'PP', 'COORD', [0, 0, 0, 1]],\n   'COORD|NP': [1.1022491455182264e-07, 'COORD', 'NP', [0, 0, 0, 1]],\n   'COORD|PP': [7.030433808026982e-05, 'COORD', 'PP', [0, 0, 0, 1]],\n   'COORD|COORD': [6.989531677350835e-11, 'COORD', 'COORD', [0, 0, 0, 1]],\n   'COORD': [2.717646682094464e-05, 'NP']},\n  {'NP': [0.0023656661499696, 'DET', 'NC', [0, 1, 0, 2]],\n   'DET|NC': [0.01603123130599887, 'DET', 'NC', [0, 1, 0, 2]],\n   'AP': [1.807663102960875e-09, 'DET', 'AP', [0, 1, 0, 2]],\n   'PP': [0.07900343934193194, 'P', 'NP', [0, 1, 0, 2]],\n   'P|NC': [0.7945180014955534, 'P', 'NC', [0, 1, 0, 2]],\n   'P|NP': [0.10703269075218114, 'P', 'NP', [0, 1, 0, 2]],\n   'SENT': [0.00027853811120609804, 'NP'],\n   'Srel': [7.907528488648594e-06, 'PP', 'NP', [0, 1, 0, 2]],\n   'NP|NP': [1.438124223770371e-07, 'NP', 'NP', [0, 1, 0, 2]],\n   'NP|PP': [8.803404895753986e-11, 'NP', 'PP', [0, 1, 0, 2]],\n   'NP|COORD': [9.119367303553399e-11, 'NP', 'COORD', [0, 1, 0, 2]],\n   'PP|NC': [0.0006809042618105867, 'PP', 'NC', [0, 1, 0, 2]],\n   'Sint': [1.0079926425090517e-06, 'PP', 'NP', [0, 1, 0, 2]],\n   'PP|NP': [7.862342611570603e-05, 'PP', 'NP', [0, 1, 0, 2]],\n   'PP|AP': [2.2864481592027764e-07, 'PP', 'AP', [0, 1, 0, 2]],\n   'PP|PP': [5.615042266670158e-08, 'PP', 'PP', [0, 1, 0, 2]],\n   'PP|COORD': [5.81657136768064e-08, 'PP', 'COORD', [0, 1, 0, 2]],\n   'COORD|NC': [6.76942851198524e-10, 'COORD', 'NC', [0, 1, 0, 2]],\n   'COORD|NP': [9.119367303553399e-11, 'COORD', 'NP', [0, 1, 0, 2]],\n   'COORD|AP': [2.273145907315393e-13, 'COORD', 'AP', [0, 1, 0, 2]],\n   'COORD|PP': [5.5823746961027176e-14, 'COORD', 'PP', [0, 1, 0, 2]],\n   'COORD|COORD': [5.78273132755447e-14, 'COORD', 'COORD', [0, 1, 0, 2]],\n   'COORD': [1.5001053582559289e-06, 'NP']}],\n [{'NP': [0.03787926612559853, 'NC', 'PP', [0, 0, 1, 1]],\n   'NC|NP': [0.021781382487179597, 'NC', 'NP', [0, 0, 1, 1]],\n   'NC|AP': [1.66436846780171e-08, 'NC', 'AP', [0, 0, 1, 1]],\n   'NC|PP': [0.7274078509055156, 'NC', 'PP', [0, 0, 1, 1]],\n   'NC|Srel': [7.280693539185044e-05, 'NC', 'Srel', [0, 0, 1, 1]],\n   'NC|COORD': [1.3811910264540009e-05, 'NC', 'COORD', [0, 0, 1, 1]],\n   'SENT': [0.004459978108336601, 'NP'],\n   'Srel': [0.0014893430626954781, 'NP', 'NP', [1, 0, 0, 2]],\n   'NP|NP': [0.02657904542656546, 'NP', 'NP', [1, 0, 0, 2]],\n   'NP|PP': [0.09799201454230924, 'NP', 'PP', [0, 0, 1, 1]],\n   'PP': [0.0002925619939893127, 'NP', 'P|NP', [0, 0, 1, 1]],\n   'NP|COORD': [1.6854182261614114e-05, 'NP', 'COORD', [1, 0, 0, 2]],\n   'AP|NP': [7.314097544385358e-06, 'AP', 'NP', [0, 0, 1, 1]],\n   'AP|AP': [5.73837619476869e-10, 'AP', 'AP', [1, 0, 0, 2]],\n   'AP': [3.280866722680068e-07, 'AP', 'PP', [0, 0, 1, 1]],\n   'AP|PP': [0.0002442605275035311, 'AP', 'PP', [0, 0, 1, 1]],\n   'AP|Srel': [2.444826574608813e-08, 'AP', 'Srel', [0, 0, 1, 1]],\n   'AP|COORD': [4.637981955856283e-09, 'AP', 'COORD', [0, 0, 1, 1]],\n   'Sint': [0.00010794165605628592, 'PP', 'NP', [1, 0, 0, 2]],\n   'PP|NP': [0.008419449172390299, 'PP', 'NP', [1, 0, 0, 2]],\n   'PP|AP': [2.4484603397189762e-05, 'PP', 'AP', [1, 0, 0, 2]],\n   'PP|PP': [5.998531742305904e-05, 'PP', 'PP', [0, 0, 1, 1]],\n   'PP|Srel': [6.003986793163693e-09, 'PP', 'Srel', [0, 0, 1, 1]],\n   'PP|COORD': [6.228719531466085e-06, 'PP', 'COORD', [1, 0, 0, 2]],\n   'COORD|NP': [1.6854182261614114e-05, 'COORD', 'NP', [1, 0, 0, 2]],\n   'COORD|AP': [4.201170339329066e-08, 'COORD', 'AP', [1, 0, 0, 2]],\n   'COORD|PP': [6.213824638066533e-05, 'COORD', 'PP', [0, 0, 1, 1]],\n   'COORD|Srel': [6.219475475784532e-09, 'COORD', 'Srel', [0, 0, 1, 1]],\n   'COORD|COORD': [1.0687496678258791e-08, 'COORD', 'COORD', [1, 0, 0, 2]],\n   'PP|NC': [0.07291514891683111, 'PP', 'NC', [1, 0, 0, 2]],\n   'AP|NC': [1.708888430802116e-06, 'AP', 'NC', [1, 0, 0, 2]],\n   'COORD|NC': [0.00012511085270521956, 'COORD', 'NC', [1, 0, 0, 2]],\n   'COORD': [2.4019826332021897e-05, 'NP']}]]"
      ]
     },
     "execution_count": 623,
     "metadata": {},
     "output_type": "execute_result"
    }
   ],
   "source": [
    "cyk([\"Nom\", \"de\", \"fantaisie\"])"
   ]
  },
  {
   "cell_type": "code",
   "execution_count": 622,
   "metadata": {},
   "outputs": [
    {
     "data": {
      "image/png": "[encoded data removed]",
      "text/plain": [
       "Tree('NPP|NPP|PONCT|Srel', [Tree('fantaisie', [])])"
      ]
     },
     "metadata": {},
     "output_type": "display_data"
    }
   ],
   "source": [
    "Tree(pos, _create_sub_tree(cyk([\"Nom\", \"de\", \"fantaisie\"]), 'NP', [0, 2], [\"Nom\", \"de\", \"fantaisie\"]))"
   ]
  },
  {
   "cell_type": "code",
   "execution_count": 625,
   "metadata": {},
   "outputs": [
    {
     "data": {
      "text/plain": [
       "'NC'"
      ]
     },
     "execution_count": 625,
     "metadata": {},
     "output_type": "execute_result"
    }
   ],
   "source": [
    "cyk([\"Nom\", \"de\", \"fantaisie\"])[0][2]['NP'][1]"
   ]
  },
  {
   "cell_type": "code",
   "execution_count": 339,
   "metadata": {},
   "outputs": [
    {
     "name": "stdout",
     "output_type": "stream",
     "text": [
      "{'Amélioration': {'NC': 1}, 'de': {'P': 1}, 'la': {'DET': 1}, 'sécurité': {'NC': 1}, 'Pourquoi': {'ADVWH': 1}, 'ce': {'DET': 1}, 'thème': {'NC': 1}, '?': {'PONCT': 1}}\n{'SENT': {('NP',): 1, ('ADVWH', 'NP', 'PONCT'): 1}, 'NP': {('NC', 'PP'): 1, ('DET', 'NC'): 2}, 'PP': {('P', 'NP'): 1}}\n"
     ]
    },
    {
     "data": {
      "image/png": "[encoded data removed]",
      "text/plain": [
       "Tree('SENT', [Tree('ADVWH', ['Pourquoi']), Tree('NP', [Tree('DET', ['ce']), Tree('NC', ['thème'])]), Tree('PONCT', ['?'])])"
      ]
     },
     "metadata": {},
     "output_type": "display_data"
    }
   ],
   "source": [
    "#sanity check\n",
    "s = \"( (SENT (NP (NC Amélioration) (PP (P de) (NP (DET la) (NC sécurité))))))\"\n",
    "s2 = \"( (SENT (ADVWH Pourquoi) (NP (DET ce) (NC thème)) (PONCT ?)))\"\n",
    "s3 = \"( (SENT (NP (NC Espoir))))\"\n",
    "S = '( (SENT (NP-SUJ (DET Cette) (NC exposition)) (VN (CLO-A_OBJ nous) (V apprend)) (Ssub-OBJ (CS que) (PP-MOD (P dès) (NP (DET le) (ADJ XIIe) (NC siècle))) (PONCT ,) (PP-MOD (P à) (NP (NPP Dammarie-sur-Saulx))) (PONCT ,) (PP-MOD (P entre) (NP (ADJ autres) (NC sites))) (PONCT ,) (NP-SUJ (DET une) (NC industrie) (AP (ADJ métallurgique))) (VN (V existait))) (PONCT .)))'\n",
    "t = Tree.fromstring(s2[2: -1])\n",
    "parcour_tree_fin(t)\n",
    "print(lexicon)\n",
    "print(grammar)\n",
    "t"
   ]
  },
  {
   "cell_type": "code",
   "execution_count": 24,
   "metadata": {},
   "outputs": [
    {
     "ename": "LookupError",
     "evalue": "\n\n===========================================================================\nNLTK was unable to find the gs file!\nUse software specific configuration paramaters or set the PATH environment variable.\n===========================================================================",
     "traceback": [
      "\u001b[0;31m---------------------------------------------------------------------------\u001b[0m",
      "\u001b[0;31mLookupError\u001b[0m                               Traceback (most recent call last)",
      "\u001b[0;32m~/anaconda3/lib/python3.6/site-packages/IPython/core/formatters.py\u001b[0m in \u001b[0;36m__call__\u001b[0;34m(self, obj)\u001b[0m\n\u001b[1;32m    343\u001b[0m             \u001b[0mmethod\u001b[0m \u001b[0;34m=\u001b[0m \u001b[0mget_real_method\u001b[0m\u001b[0;34m(\u001b[0m\u001b[0mobj\u001b[0m\u001b[0;34m,\u001b[0m \u001b[0mself\u001b[0m\u001b[0;34m.\u001b[0m\u001b[0mprint_method\u001b[0m\u001b[0;34m)\u001b[0m\u001b[0;34m\u001b[0m\u001b[0;34m\u001b[0m\u001b[0m\n\u001b[1;32m    344\u001b[0m             \u001b[0;32mif\u001b[0m \u001b[0mmethod\u001b[0m \u001b[0;32mis\u001b[0m \u001b[0;32mnot\u001b[0m \u001b[0;32mNone\u001b[0m\u001b[0;34m:\u001b[0m\u001b[0;34m\u001b[0m\u001b[0;34m\u001b[0m\u001b[0m\n\u001b[0;32m--> 345\u001b[0;31m                 \u001b[0;32mreturn\u001b[0m \u001b[0mmethod\u001b[0m\u001b[0;34m(\u001b[0m\u001b[0;34m)\u001b[0m\u001b[0;34m\u001b[0m\u001b[0;34m\u001b[0m\u001b[0m\n\u001b[0m\u001b[1;32m    346\u001b[0m             \u001b[0;32mreturn\u001b[0m \u001b[0;32mNone\u001b[0m\u001b[0;34m\u001b[0m\u001b[0;34m\u001b[0m\u001b[0m\n\u001b[1;32m    347\u001b[0m         \u001b[0;32melse\u001b[0m\u001b[0;34m:\u001b[0m\u001b[0;34m\u001b[0m\u001b[0;34m\u001b[0m\u001b[0m\n",
      "\u001b[0;32m~/anaconda3/lib/python3.6/site-packages/nltk/tree.py\u001b[0m in \u001b[0;36m_repr_png_\u001b[0;34m(self)\u001b[0m\n\u001b[1;32m    795\u001b[0m                         \u001b[0mbinary_names\u001b[0m\u001b[0;34m=\u001b[0m\u001b[0;34m[\u001b[0m\u001b[0;34m'gswin32c.exe'\u001b[0m\u001b[0;34m,\u001b[0m \u001b[0;34m'gswin64c.exe'\u001b[0m\u001b[0;34m]\u001b[0m\u001b[0;34m,\u001b[0m\u001b[0;34m\u001b[0m\u001b[0;34m\u001b[0m\u001b[0m\n\u001b[1;32m    796\u001b[0m                         \u001b[0menv_vars\u001b[0m\u001b[0;34m=\u001b[0m\u001b[0;34m[\u001b[0m\u001b[0;34m'PATH'\u001b[0m\u001b[0;34m]\u001b[0m\u001b[0;34m,\u001b[0m\u001b[0;34m\u001b[0m\u001b[0;34m\u001b[0m\u001b[0m\n\u001b[0;32m--> 797\u001b[0;31m                         \u001b[0mverbose\u001b[0m\u001b[0;34m=\u001b[0m\u001b[0;32mFalse\u001b[0m\u001b[0;34m,\u001b[0m\u001b[0;34m\u001b[0m\u001b[0;34m\u001b[0m\u001b[0m\n\u001b[0m\u001b[1;32m    798\u001b[0m                     )\n\u001b[1;32m    799\u001b[0m                 ]\n",
      "\u001b[0;32m~/anaconda3/lib/python3.6/site-packages/nltk/internals.py\u001b[0m in \u001b[0;36mfind_binary\u001b[0;34m(name, path_to_bin, env_vars, searchpath, binary_names, url, verbose)\u001b[0m\n\u001b[1;32m    694\u001b[0m     return next(\n\u001b[1;32m    695\u001b[0m         find_binary_iter(\n\u001b[0;32m--> 696\u001b[0;31m             \u001b[0mname\u001b[0m\u001b[0;34m,\u001b[0m \u001b[0mpath_to_bin\u001b[0m\u001b[0;34m,\u001b[0m \u001b[0menv_vars\u001b[0m\u001b[0;34m,\u001b[0m \u001b[0msearchpath\u001b[0m\u001b[0;34m,\u001b[0m \u001b[0mbinary_names\u001b[0m\u001b[0;34m,\u001b[0m \u001b[0murl\u001b[0m\u001b[0;34m,\u001b[0m \u001b[0mverbose\u001b[0m\u001b[0;34m\u001b[0m\u001b[0;34m\u001b[0m\u001b[0m\n\u001b[0m\u001b[1;32m    697\u001b[0m         )\n\u001b[1;32m    698\u001b[0m     )\n",
      "\u001b[0;32m~/anaconda3/lib/python3.6/site-packages/nltk/internals.py\u001b[0m in \u001b[0;36mfind_binary_iter\u001b[0;34m(name, path_to_bin, env_vars, searchpath, binary_names, url, verbose)\u001b[0m\n\u001b[1;32m    678\u001b[0m     \"\"\"\n\u001b[1;32m    679\u001b[0m     for file in find_file_iter(\n\u001b[0;32m--> 680\u001b[0;31m         \u001b[0mpath_to_bin\u001b[0m \u001b[0;32mor\u001b[0m \u001b[0mname\u001b[0m\u001b[0;34m,\u001b[0m \u001b[0menv_vars\u001b[0m\u001b[0;34m,\u001b[0m \u001b[0msearchpath\u001b[0m\u001b[0;34m,\u001b[0m \u001b[0mbinary_names\u001b[0m\u001b[0;34m,\u001b[0m \u001b[0murl\u001b[0m\u001b[0;34m,\u001b[0m \u001b[0mverbose\u001b[0m\u001b[0;34m\u001b[0m\u001b[0;34m\u001b[0m\u001b[0m\n\u001b[0m\u001b[1;32m    681\u001b[0m     ):\n\u001b[1;32m    682\u001b[0m         \u001b[0;32myield\u001b[0m \u001b[0mfile\u001b[0m\u001b[0;34m\u001b[0m\u001b[0;34m\u001b[0m\u001b[0m\n",
      "\u001b[0;32m~/anaconda3/lib/python3.6/site-packages/nltk/internals.py\u001b[0m in \u001b[0;36mfind_file_iter\u001b[0;34m(filename, env_vars, searchpath, file_names, url, verbose, finding_dir)\u001b[0m\n\u001b[1;32m    636\u001b[0m             \u001b[0mmsg\u001b[0m \u001b[0;34m+=\u001b[0m \u001b[0;34m'\\n\\n  For more information on %s, see:\\n    <%s>'\u001b[0m \u001b[0;34m%\u001b[0m \u001b[0;34m(\u001b[0m\u001b[0mfilename\u001b[0m\u001b[0;34m,\u001b[0m \u001b[0murl\u001b[0m\u001b[0;34m)\u001b[0m\u001b[0;34m\u001b[0m\u001b[0;34m\u001b[0m\u001b[0m\n\u001b[1;32m    637\u001b[0m         \u001b[0mdiv\u001b[0m \u001b[0;34m=\u001b[0m \u001b[0;34m'='\u001b[0m \u001b[0;34m*\u001b[0m \u001b[0;36m75\u001b[0m\u001b[0;34m\u001b[0m\u001b[0;34m\u001b[0m\u001b[0m\n\u001b[0;32m--> 638\u001b[0;31m         \u001b[0;32mraise\u001b[0m \u001b[0mLookupError\u001b[0m\u001b[0;34m(\u001b[0m\u001b[0;34m'\\n\\n%s\\n%s\\n%s'\u001b[0m \u001b[0;34m%\u001b[0m \u001b[0;34m(\u001b[0m\u001b[0mdiv\u001b[0m\u001b[0;34m,\u001b[0m \u001b[0mmsg\u001b[0m\u001b[0;34m,\u001b[0m \u001b[0mdiv\u001b[0m\u001b[0;34m)\u001b[0m\u001b[0;34m)\u001b[0m\u001b[0;34m\u001b[0m\u001b[0;34m\u001b[0m\u001b[0m\n\u001b[0m\u001b[1;32m    639\u001b[0m \u001b[0;34m\u001b[0m\u001b[0m\n\u001b[1;32m    640\u001b[0m \u001b[0;34m\u001b[0m\u001b[0m\n",
      "\u001b[0;31mLookupError\u001b[0m: \n\n===========================================================================\nNLTK was unable to find the gs file!\nUse software specific configuration paramaters or set the PATH environment variable.\n==========================================================================="
     ],
     "output_type": "error"
    },
    {
     "data": {
      "text/plain": [
       "Tree('', [Tree('SENT', [Tree('NP', [Tree('NC', ['Amélioration']), Tree('PP', [Tree('P', ['de']), Tree('NP', [Tree('DET', ['la']), Tree('NC', ['sécurité'])])])])])])"
      ]
     },
     "execution_count": 24,
     "metadata": {},
     "output_type": "execute_result"
    }
   ],
   "source": [
    "Tree.fromstring(\"( (SENT (NP (NC Amélioration) (PP (P de) (NP (DET la) (NC sécurité))))))\")"
   ]
  },
  {
   "cell_type": "code",
   "execution_count": 172,
   "metadata": {},
   "outputs": [],
   "source": [
    "def levenshtein(s, t, threshold=None):\n",
    "    \"\"\"\n",
    "    d[i,j] = levenshtein(s[:i], t[:j]) \n",
    "    \"\"\"\n",
    "    if threshold is None:\n",
    "        threshold = len(s) + len(t)\n",
    "    if abs(len(s) - len(t)) > threshold:\n",
    "        return threshold + 1\n",
    "    nrows = len(s) + 1\n",
    "    ncols = len(t) + 1\n",
    "    d = [[0 for _ in range(ncols)] for _ in range(nrows)] \n",
    "    \n",
    "    for i in range(len(d)):\n",
    "        d[i][0] = i\n",
    "    for i in range(ncols):\n",
    "        d[0][i] = i\n",
    "    \n",
    "    for i in range (1, nrows):\n",
    "        for j in range(1, ncols):\n",
    "            d[i][j] = min(d[i-1][j-1] + (s[i-1] != t[j-1]), d[i-1][j] + 1, d[i][j-1] + 1)\n",
    "    return d[-1][-1]"
   ]
  },
  {
   "cell_type": "code",
   "execution_count": 173,
   "metadata": {},
   "outputs": [
    {
     "name": "stdout",
     "output_type": "stream",
     "text": [
      "(['Bordeaux'], [0.88492876])\n"
     ]
    }
   ],
   "source": [
    "import pickle\n",
    "import numpy as np\n",
    "from operator import itemgetter\n",
    "\n",
    "\n",
    "def cosine_nearest(embeddings, word, k=1):\n",
    "    \"\"\"Returns the k nearest words\"\"\"\n",
    "    word_index = word_id[word]\n",
    "    e = embeddings[word_index]\n",
    "    distances = np.dot(embeddings, e)\n",
    "    sorted_distances = sorted(enumerate(distances), key=itemgetter(1), reverse=True)\n",
    "    return ([id_word[sorted_distances[i][0]] for i in range(1, k+1)], \n",
    "            [sorted_distances[i][1] for i in range(1, k+1)])\n",
    "    \n",
    "\n",
    "\n",
    "file = open('polyglot-fr.pkl', 'rb')\n",
    "words, embeddings = pickle.load(file, encoding='latin1')\n",
    "\n",
    "# Map words to indices and vice versa\n",
    "word_id = {w:i for (i, w) in enumerate(words)}\n",
    "id_word = dict(enumerate(words))\n",
    "\n",
    "# Normalise embeddings\n",
    "norms = np.linalg.norm(embeddings, axis=1)\n",
    "embeddings = embeddings / norms[:, None]\n",
    "\n",
    "print(cosine_nearest(embeddings, \"Paris\"))"
   ]
  },
  {
   "cell_type": "code",
   "execution_count": 196,
   "metadata": {},
   "outputs": [],
   "source": [
    "indices = {}\n",
    "for i, w in enumerate(words):\n",
    "    l = len(w)\n",
    "    if l not in indices:\n",
    "        indices[l] = [i]   \n",
    "    else:\n",
    "        indices[l].append(i)\n",
    "        \n",
    "def find_near(word, k):\n",
    "    res = []\n",
    "    l = len(word)\n",
    "    for i in range(l-k, l+k+1):\n",
    "        if not indices[i]:\n",
    "            continue\n",
    "        for index in indices[i]:\n",
    "            w = words[index]\n",
    "            if levenshtein(w, word, k) <= k:\n",
    "                res.append(w)\n",
    "    return res\n",
    "\n",
    "\"\"\"\n",
    "def find_near(word, k):\n",
    "    res = []\n",
    "    for w in words:\n",
    "        if levenshtein(w, word) <= k:\n",
    "            res.append(w)\n",
    "    return res\n",
    "\"\"\"\n",
    "\n",
    "def _create_from_lex(word, wnear, weight=1):\n",
    "    for pos, count in lexicon.get(wnear, {}).items():\n",
    "        lexicon[word] = lexicon.get(word, {})\n",
    "        lexicon[word][pos] = lexicon[word].get(pos, 0) + weight*count\n",
    "\n",
    "def create_lex_entry(word, indice_sentence=1, k_lev=1, d_emb=5):\n",
    "    if indice_sentence>0 and (word[0].upper() == word[0]) and (word[0].lower() != word[0]):\n",
    "        lexicon[word] = {'NPP':1, 'ADJ':0.05, 'NC':0.05}\n",
    "        #print('a')\n",
    "        #print(lexicon[word])\n",
    "        \n",
    "    elif '_' in word:\n",
    "        lexicon[word] = {'P': 341, 'PRO': 29, 'ADV': 336, 'DET': 102,'CS': 97,\n",
    "                             'CC': 36,'P+D': 98,'V': 7,'ADJ': 5,'ET': 1,'CLS': 9,'NC': 4}  \n",
    "    else:\n",
    "        near_word_lev = find_near(word, k_lev)\n",
    "        for w in near_word_lev:\n",
    "            if w in lexicon:\n",
    "                _create_from_lex(word, w)\n",
    "            else:\n",
    "                w_emb_list, w_weight_list = cosine_nearest(embeddings, w, d_emb)\n",
    "                for index, w_emb in enumerate(w_emb_list):\n",
    "                    _create_from_lex(word, w_emb, w_weight_list[index])\n",
    "    if word not in lexicon: #not a clue of what it might be\n",
    "        lexicon[word] = {'NC':1/3, 'ADJ': 1/3, 'V' : 1/3}"
   ]
  },
  {
   "cell_type": "code",
   "execution_count": 119,
   "metadata": {},
   "outputs": [],
   "source": [
    "lexicon_tiret = {}\n",
    "for w in lexicon:\n",
    "    if '_' in w:\n",
    "        for key, value in lexicon[w].items():\n",
    "            lexicon_tiret[key] = lexicon_tiret.get(key, 0) + value"
   ]
  },
  {
   "cell_type": "code",
   "execution_count": 120,
   "metadata": {},
   "outputs": [
    {
     "data": {
      "text/plain": [
       "{'P': 341,\n 'PRO': 29,\n 'ADV': 336,\n 'DET': 102,\n 'CS': 97,\n 'CC': 36,\n 'P+D': 98,\n 'V': 7,\n 'ADJ': 5,\n 'ET': 1,\n 'CLS': 9,\n 'NC': 4}"
      ]
     },
     "execution_count": 120,
     "metadata": {},
     "output_type": "execute_result"
    }
   ],
   "source": [
    "lexicon_tiret"
   ]
  },
  {
   "cell_type": "code",
   "execution_count": 251,
   "metadata": {},
   "outputs": [
    {
     "name": "stdout",
     "output_type": "stream",
     "text": [
      "['Catégories', ':', 'Affaire', 'politico-', 'financière', 'française', '.']\n['Affaire', 'des', 'marchés', 'publics', \"d'\", 'Ile-de-France', '.']\n['Financement', 'illégal', 'du', 'RPR']\n['Affaire', 'des', 'matches', 'truqués', 'du', 'Calcio']\n[\"L'\", 'affaire', 'des', 'matches', 'truqués', 'du', 'Calcio', '-LRB-', 'aussi', 'appelé', 'Calciopoli', ',', 'voire', 'Moggiopoli', 'pour', 'la', 'presse', 'hostile', 'à', 'la', 'Juventus', ',', 'du', 'nom', 'de', 'Luciano', 'Moggi', '-RRB-', 'est', 'un', 'scandale', 'sportivo-', 'financier', 'secouant', 'en', '2006', 'le', 'championnat', 'de', 'football', 'italien', '.']\n['Plusieurs', 'clubs', 'sont', 'accusés', \"d'\", 'avoir', 'influencé', 'la', 'désignation', 'des', 'arbitres', 'pour', 'leurs', 'matches', '.']\n['Le', 'scandale', 'des', 'matches', 'truqués']\n['Au', 'printemps', '2006', ',', 'le', 'scandale', 'éclate', 'suite_à', 'la', 'publication', 'dans', 'la', 'presse', 'italienne', '-LRB-', 'La', 'Gazzetta', 'dello', 'Sport', 'et', 'Il', 'Corriere', 'della', 'Sera', '-RRB-', 'de', 'compte-rendus', \"d'\", 'écoutes', 'téléphoniques', 'ordonnées', 'par', 'la', 'justice', 'deux', 'ans', 'plus', 'tôt', '.']\n['Le', 'public', 'prend', 'connaissance', 'des', 'conversations', 'de', 'Luciano', 'Moggi', ',', 'directeur', 'général', 'de', 'la', 'Juventus', ',', 'et', 'Pierluigi', 'Pairetto', ',', 'ancien', 'arbitre', ',', 'chargé', 'par', 'la', 'fédération', 'italienne', 'de', 'football', 'de', 'sélectionner', 'les', 'arbitres', 'pour', 'les', 'rencontres', 'de', 'championnat', 'entre', '1999', 'et', '2004', '.']\n['Lors_de', 'ces', 'échanges', ',', 'Moggi', 'donnait', 'ses', 'instructions', 'pour', 'la', 'désignation', 'des', 'arbitres', 'dans', 'le', 'matches', 'de', 'son', 'équipe', '.']\n"
     ]
    }
   ],
   "source": [
    "for nline, line in enumerate(test[103:113]):\n",
    "    wlist = bracket_to_list(line)\n",
    "    print(wlist)"
   ]
  },
  {
   "cell_type": "code",
   "execution_count": 93,
   "metadata": {},
   "outputs": [],
   "source": [
    "brack = [\"L'\", 'affaire', 'des', 'matches', 'truqués', 'du', 'Calcio', '-LRB-', 'aussi', 'appelé', 'Calciopoli', ',', 'voire', 'Moggiopoli', 'pour', 'la', 'presse', 'hostile', 'à', 'la', 'Juventus', ',', 'du', 'nom', 'de', 'Luciano', 'Moggi', '-RRB-', 'est', 'un', 'scandale', 'sportivo-', 'financier', 'secouant', 'en', '2006', 'le', 'championnat', 'de', 'football', 'italien', '.']\n",
    "for i, w in enumerate(brack):\n",
    "    if w not in lexicon:\n",
    "        create_lex_entry(w, indice_sentence=i, lexicon_val = lexicon_val)\n",
    "        #print(lexicon_val[w], w)"
   ]
  },
  {
   "cell_type": "code",
   "execution_count": 193,
   "metadata": {},
   "outputs": [],
   "source": [
    "#lexicon_val = {}\n",
    "\n",
    "def predicted_label(w):\n",
    "    return max(lexicon[w], key=lexicon[w].get)\n",
    "\n",
    "def evaluate_oov():\n",
    "    success = 0\n",
    "    non_failure = 0\n",
    "    word_tried = 0\n",
    "    for nline, line in enumerate(val[:20]):\n",
    "        wlist = bracket_to_list(line)\n",
    "        t = Tree.fromstring(line)\n",
    "        t = t.pos()\n",
    "        for i, w in enumerate(wlist):\n",
    "            if w not in lexicon:\n",
    "                create_lex_entry(w, indice_sentence=i, lexicon_val = lexicon_val)\n",
    "                success += (predicted_label(w)==t[i][1])\n",
    "                non_failure += t[i][1] in lexicon[w]\n",
    "                word_tried += 1\n",
    "                print(success, non_failure, w, predicted_label(w), t[i][1])\n",
    "    return success, non_failure, word_tried, success/word_tried, non_failure/word_tried\n",
    "\n",
    "def extend_lexicon_with_test():\n",
    "    success = 0\n",
    "    non_failure = 0\n",
    "    word_tried = 0\n",
    "    for nline, line in enumerate(test):\n",
    "        if nline%10 == 0:\n",
    "            print(nline)\n",
    "        wlist = bracket_to_list(line)\n",
    "        t = Tree.fromstring(line)\n",
    "        t = t.pos()\n",
    "        for i, w in enumerate(wlist):\n",
    "            if w not in lexicon:\n",
    "                create_lex_entry(w, indice_sentence=i)\n",
    "                success += (predicted_label(w) == t[i][1])\n",
    "                non_failure += t[i][1] in lexicon[w]\n",
    "                word_tried += 1\n",
    "                print(success, non_failure, w, predicted_label(w), t[i][1])\n",
    "    return success, non_failure, word_tried, success/word_tried, non_failure/word_tried"
   ]
  },
  {
   "cell_type": "code",
   "execution_count": 260,
   "metadata": {},
   "outputs": [
    {
     "name": "stdout",
     "output_type": "stream",
     "text": [
      "0\n"
     ]
    },
    {
     "name": "stdout",
     "output_type": "stream",
     "text": [
      "10\n"
     ]
    },
    {
     "name": "stdout",
     "output_type": "stream",
     "text": [
      "20\n"
     ]
    },
    {
     "name": "stdout",
     "output_type": "stream",
     "text": [
      "30\n"
     ]
    },
    {
     "name": "stdout",
     "output_type": "stream",
     "text": [
      "40\n"
     ]
    },
    {
     "name": "stdout",
     "output_type": "stream",
     "text": [
      "50\n"
     ]
    },
    {
     "name": "stdout",
     "output_type": "stream",
     "text": [
      "60\n"
     ]
    },
    {
     "name": "stdout",
     "output_type": "stream",
     "text": [
      "70\n"
     ]
    },
    {
     "name": "stdout",
     "output_type": "stream",
     "text": [
      "80\n"
     ]
    },
    {
     "name": "stdout",
     "output_type": "stream",
     "text": [
      "90\n"
     ]
    },
    {
     "name": "stdout",
     "output_type": "stream",
     "text": [
      "100\n"
     ]
    },
    {
     "name": "stdout",
     "output_type": "stream",
     "text": [
      "110\n"
     ]
    },
    {
     "name": "stdout",
     "output_type": "stream",
     "text": [
      "The sentence is not in the grammar\n"
     ]
    },
    {
     "name": "stdout",
     "output_type": "stream",
     "text": [
      "120\n"
     ]
    },
    {
     "name": "stdout",
     "output_type": "stream",
     "text": [
      "130\n"
     ]
    },
    {
     "name": "stdout",
     "output_type": "stream",
     "text": [
      "140\n"
     ]
    },
    {
     "name": "stdout",
     "output_type": "stream",
     "text": [
      "150\n"
     ]
    },
    {
     "name": "stdout",
     "output_type": "stream",
     "text": [
      "160\n"
     ]
    },
    {
     "name": "stdout",
     "output_type": "stream",
     "text": [
      "The sentence is not in the grammar\n"
     ]
    },
    {
     "name": "stdout",
     "output_type": "stream",
     "text": [
      "The sentence is not in the grammar\n170\n"
     ]
    },
    {
     "name": "stdout",
     "output_type": "stream",
     "text": [
      "The sentence is not in the grammar\n"
     ]
    },
    {
     "name": "stdout",
     "output_type": "stream",
     "text": [
      "180\n"
     ]
    },
    {
     "name": "stdout",
     "output_type": "stream",
     "text": [
      "190\n"
     ]
    },
    {
     "name": "stdout",
     "output_type": "stream",
     "text": [
      "200\n"
     ]
    },
    {
     "name": "stdout",
     "output_type": "stream",
     "text": [
      "210\n"
     ]
    },
    {
     "name": "stdout",
     "output_type": "stream",
     "text": [
      "220\n"
     ]
    },
    {
     "name": "stdout",
     "output_type": "stream",
     "text": [
      "230\n"
     ]
    },
    {
     "name": "stdout",
     "output_type": "stream",
     "text": [
      "240\n"
     ]
    },
    {
     "name": "stdout",
     "output_type": "stream",
     "text": [
      "250\n"
     ]
    },
    {
     "name": "stdout",
     "output_type": "stream",
     "text": [
      "260\n"
     ]
    },
    {
     "name": "stdout",
     "output_type": "stream",
     "text": [
      "270\n"
     ]
    },
    {
     "name": "stdout",
     "output_type": "stream",
     "text": [
      "280\n"
     ]
    },
    {
     "name": "stdout",
     "output_type": "stream",
     "text": [
      "The sentence is not in the grammar\n"
     ]
    },
    {
     "name": "stdout",
     "output_type": "stream",
     "text": [
      "290\n"
     ]
    },
    {
     "name": "stdout",
     "output_type": "stream",
     "text": [
      "300\n"
     ]
    }
   ],
   "source": [
    "# parse one phrase\n",
    "\n",
    "def sent_to_parse_sent(s):\n",
    "    brack_s = bracket_to_list(s)\n",
    "    t = tree_from_sentence(brack_s)\n",
    "    t = debinarize(t)\n",
    "    return tree_to_string(t)\n",
    "\n",
    "out_file_test = open(\"test.txt\", \"w\", encoding='utf-8')\n",
    "for i, line in enumerate(test):\n",
    "    if i%10 == 0:\n",
    "        print(i)\n",
    "    # write line to output file\n",
    "    line = line[2:-2]\n",
    "    parsing = sent_to_parse_sent(line)\n",
    "    out_file_test.write(parsing)\n",
    "    out_file_test.write(\"\\n\")\n",
    "out_file_test.close()"
   ]
  },
  {
   "cell_type": "code",
   "execution_count": 276,
   "metadata": {},
   "outputs": [
    {
     "name": "stdout",
     "output_type": "stream",
     "text": [
      "0\n10\n20\n30\n40\n50\n60\n70\n80\n90\n100\n110\n120\n130\n140\n150\n160\n170\n180\n190\n200\n210\n220\n230\n240\n250\n260\n270\n280\n290\n300\n"
     ]
    }
   ],
   "source": [
    "out_file_truth = open(\"test_truth.txt\", \"w\", encoding='utf-8')\n",
    "for i, line in enumerate(test):\n",
    "    if i%10 == 0:\n",
    "        print(i)\n",
    "    # write line to output file\n",
    "    line = line[2:-2]\n",
    "    t = Tree.fromstring(line)\n",
    "    t = remove_function_tree(t)\n",
    "    parsing = tree_to_string(t)\n",
    "    out_file_truth.write(parsing)\n",
    "    out_file_truth.write(\"\\n\")\n",
    "out_file_truth.close()"
   ]
  },
  {
   "cell_type": "code",
   "execution_count": 274,
   "metadata": {},
   "outputs": [
    {
     "name": "stdout",
     "output_type": "stream",
     "text": [
      "(SENT (PONCT -) (NP-MOD (NC Février) (NC 2005)) (PONCT :) (NP-SUJ (DET le) (NC parquet) (PP (P de) (NP (NPP Paris)))) (VN (V requiert)) (NP-OBJ (DET un) (PREF non-) (NC lieu) (PP (P en_faveur_de) (NP (NPP Jean) (NPP Tiberi))) (PONCT ,) (VPpart (VPP accordé) (PP-P_OBJ (P par) (NP (DET le) (NC juge) (NPP Armand) (NPP Riberolles))))) (PONCT .))\n"
     ]
    },
    {
     "data": {
      "text/plain": [
       "'(SENT (PONCT -)(NP (NC Février)(NC 2005))(PONCT :)(NP (DET le)(NC parquet)(PP (P de)(NP (NPP Paris))))(VN (V requiert))(NP (DET un)(PREF non-)(NC lieu)(PP (P en_faveur_de)(NP (NPP Jean)(NPP Tiberi)))(PONCT ,)(VPpart (VPP accordé)(PP (P par)(NP (DET le)(NC juge)(NPP Armand)(NPP Riberolles)))))(PONCT .))'"
      ]
     },
     "execution_count": 274,
     "metadata": {},
     "output_type": "execute_result"
    }
   ],
   "source": [
    "line = test[1]\n",
    "line = line[2:-2]\n",
    "t = Tree.fromstring(line)\n",
    "t = remove_function_tree(t)\n",
    "parsing = tree_to_string(t)\n",
    "print(line)\n",
    "parsing"
   ]
  },
  {
   "cell_type": "code",
   "execution_count": 241,
   "metadata": {},
   "outputs": [
    {
     "name": "stdout",
     "output_type": "stream",
     "text": [
      "['-', 'Février', '2005', ':', 'le', 'parquet', 'de', 'Paris', 'requiert', 'un', 'non-', 'lieu', 'en_faveur_de', 'Jean', 'Tiberi', ',', 'accordé', 'par', 'le', 'juge', 'Armand', 'Riberolles', '.']\n"
     ]
    }
   ],
   "source": [
    "s = test[1][2:-2]\n",
    "brack_s = bracket_to_list(s)\n",
    "print(brack_s)"
   ]
  },
  {
   "cell_type": "code",
   "execution_count": 232,
   "metadata": {},
   "outputs": [
    {
     "ename": "KeyboardInterrupt",
     "evalue": "",
     "traceback": [
      "\u001b[0;31m---------------------------------------------------------------------------\u001b[0m",
      "\u001b[0;31mKeyboardInterrupt\u001b[0m                         Traceback (most recent call last)",
      "\u001b[0;32m<ipython-input-232-8a90d2874e44>\u001b[0m in \u001b[0;36m<module>\u001b[0;34m\u001b[0m\n\u001b[0;32m----> 1\u001b[0;31m \u001b[0mTree\u001b[0m\u001b[0;34m.\u001b[0m\u001b[0mfromstring\u001b[0m\u001b[0;34m(\u001b[0m\u001b[0ms\u001b[0m\u001b[0;34m)\u001b[0m\u001b[0;34m.\u001b[0m\u001b[0mdraw\u001b[0m\u001b[0;34m(\u001b[0m\u001b[0;34m)\u001b[0m\u001b[0;34m\u001b[0m\u001b[0;34m\u001b[0m\u001b[0m\n\u001b[0m",
      "\u001b[0;32m~/anaconda3/lib/python3.6/site-packages/nltk/tree.py\u001b[0m in \u001b[0;36mdraw\u001b[0;34m(self)\u001b[0m\n\u001b[1;32m    744\u001b[0m         \u001b[0;32mfrom\u001b[0m \u001b[0mnltk\u001b[0m\u001b[0;34m.\u001b[0m\u001b[0mdraw\u001b[0m\u001b[0;34m.\u001b[0m\u001b[0mtree\u001b[0m \u001b[0;32mimport\u001b[0m \u001b[0mdraw_trees\u001b[0m\u001b[0;34m\u001b[0m\u001b[0;34m\u001b[0m\u001b[0m\n\u001b[1;32m    745\u001b[0m \u001b[0;34m\u001b[0m\u001b[0m\n\u001b[0;32m--> 746\u001b[0;31m         \u001b[0mdraw_trees\u001b[0m\u001b[0;34m(\u001b[0m\u001b[0mself\u001b[0m\u001b[0;34m)\u001b[0m\u001b[0;34m\u001b[0m\u001b[0;34m\u001b[0m\u001b[0m\n\u001b[0m\u001b[1;32m    747\u001b[0m \u001b[0;34m\u001b[0m\u001b[0m\n\u001b[1;32m    748\u001b[0m     \u001b[0;32mdef\u001b[0m \u001b[0mpretty_print\u001b[0m\u001b[0;34m(\u001b[0m\u001b[0mself\u001b[0m\u001b[0;34m,\u001b[0m \u001b[0msentence\u001b[0m\u001b[0;34m=\u001b[0m\u001b[0;32mNone\u001b[0m\u001b[0;34m,\u001b[0m \u001b[0mhighlight\u001b[0m\u001b[0;34m=\u001b[0m\u001b[0;34m(\u001b[0m\u001b[0;34m)\u001b[0m\u001b[0;34m,\u001b[0m \u001b[0mstream\u001b[0m\u001b[0;34m=\u001b[0m\u001b[0;32mNone\u001b[0m\u001b[0;34m,\u001b[0m \u001b[0;34m**\u001b[0m\u001b[0mkwargs\u001b[0m\u001b[0;34m)\u001b[0m\u001b[0;34m:\u001b[0m\u001b[0;34m\u001b[0m\u001b[0;34m\u001b[0m\u001b[0m\n",
      "\u001b[0;32m~/anaconda3/lib/python3.6/site-packages/nltk/draw/tree.py\u001b[0m in \u001b[0;36mdraw_trees\u001b[0;34m(*trees)\u001b[0m\n\u001b[1;32m   1006\u001b[0m     \u001b[0;34m:\u001b[0m\u001b[0mrtype\u001b[0m\u001b[0;34m:\u001b[0m \u001b[0;32mNone\u001b[0m\u001b[0;34m\u001b[0m\u001b[0;34m\u001b[0m\u001b[0m\n\u001b[1;32m   1007\u001b[0m     \"\"\"\n\u001b[0;32m-> 1008\u001b[0;31m     \u001b[0mTreeView\u001b[0m\u001b[0;34m(\u001b[0m\u001b[0;34m*\u001b[0m\u001b[0mtrees\u001b[0m\u001b[0;34m)\u001b[0m\u001b[0;34m.\u001b[0m\u001b[0mmainloop\u001b[0m\u001b[0;34m(\u001b[0m\u001b[0;34m)\u001b[0m\u001b[0;34m\u001b[0m\u001b[0;34m\u001b[0m\u001b[0m\n\u001b[0m\u001b[1;32m   1009\u001b[0m     \u001b[0;32mreturn\u001b[0m\u001b[0;34m\u001b[0m\u001b[0;34m\u001b[0m\u001b[0m\n\u001b[1;32m   1010\u001b[0m \u001b[0;34m\u001b[0m\u001b[0m\n",
      "\u001b[0;32m~/anaconda3/lib/python3.6/site-packages/nltk/draw/tree.py\u001b[0m in \u001b[0;36mmainloop\u001b[0;34m(self, *args, **kwargs)\u001b[0m\n\u001b[1;32m    996\u001b[0m         \u001b[0;32mif\u001b[0m \u001b[0min_idle\u001b[0m\u001b[0;34m(\u001b[0m\u001b[0;34m)\u001b[0m\u001b[0;34m:\u001b[0m\u001b[0;34m\u001b[0m\u001b[0;34m\u001b[0m\u001b[0m\n\u001b[1;32m    997\u001b[0m             \u001b[0;32mreturn\u001b[0m\u001b[0;34m\u001b[0m\u001b[0;34m\u001b[0m\u001b[0m\n\u001b[0;32m--> 998\u001b[0;31m         \u001b[0mself\u001b[0m\u001b[0;34m.\u001b[0m\u001b[0m_top\u001b[0m\u001b[0;34m.\u001b[0m\u001b[0mmainloop\u001b[0m\u001b[0;34m(\u001b[0m\u001b[0;34m*\u001b[0m\u001b[0margs\u001b[0m\u001b[0;34m,\u001b[0m \u001b[0;34m**\u001b[0m\u001b[0mkwargs\u001b[0m\u001b[0;34m)\u001b[0m\u001b[0;34m\u001b[0m\u001b[0;34m\u001b[0m\u001b[0m\n\u001b[0m\u001b[1;32m    999\u001b[0m \u001b[0;34m\u001b[0m\u001b[0m\n\u001b[1;32m   1000\u001b[0m \u001b[0;34m\u001b[0m\u001b[0m\n",
      "\u001b[0;32m~/anaconda3/lib/python3.6/tkinter/__init__.py\u001b[0m in \u001b[0;36mmainloop\u001b[0;34m(self, n)\u001b[0m\n\u001b[1;32m   1281\u001b[0m     \u001b[0;32mdef\u001b[0m \u001b[0mmainloop\u001b[0m\u001b[0;34m(\u001b[0m\u001b[0mself\u001b[0m\u001b[0;34m,\u001b[0m \u001b[0mn\u001b[0m\u001b[0;34m=\u001b[0m\u001b[0;36m0\u001b[0m\u001b[0;34m)\u001b[0m\u001b[0;34m:\u001b[0m\u001b[0;34m\u001b[0m\u001b[0;34m\u001b[0m\u001b[0m\n\u001b[1;32m   1282\u001b[0m         \u001b[0;34m\"\"\"Call the mainloop of Tk.\"\"\"\u001b[0m\u001b[0;34m\u001b[0m\u001b[0;34m\u001b[0m\u001b[0m\n\u001b[0;32m-> 1283\u001b[0;31m         \u001b[0mself\u001b[0m\u001b[0;34m.\u001b[0m\u001b[0mtk\u001b[0m\u001b[0;34m.\u001b[0m\u001b[0mmainloop\u001b[0m\u001b[0;34m(\u001b[0m\u001b[0mn\u001b[0m\u001b[0;34m)\u001b[0m\u001b[0;34m\u001b[0m\u001b[0;34m\u001b[0m\u001b[0m\n\u001b[0m\u001b[1;32m   1284\u001b[0m     \u001b[0;32mdef\u001b[0m \u001b[0mquit\u001b[0m\u001b[0;34m(\u001b[0m\u001b[0mself\u001b[0m\u001b[0;34m)\u001b[0m\u001b[0;34m:\u001b[0m\u001b[0;34m\u001b[0m\u001b[0;34m\u001b[0m\u001b[0m\n\u001b[1;32m   1285\u001b[0m         \u001b[0;34m\"\"\"Quit the Tcl interpreter. All widgets will be destroyed.\"\"\"\u001b[0m\u001b[0;34m\u001b[0m\u001b[0;34m\u001b[0m\u001b[0m\n",
      "\u001b[0;31mKeyboardInterrupt\u001b[0m: "
     ],
     "output_type": "error"
    }
   ],
   "source": [
    "Tree.fromstring(s).draw()"
   ]
  },
  {
   "cell_type": "code",
   "execution_count": 235,
   "metadata": {},
   "outputs": [
    {
     "ename": "KeyError",
     "evalue": "'('",
     "traceback": [
      "\u001b[0;31m---------------------------------------------------------------------------\u001b[0m",
      "\u001b[0;31mKeyError\u001b[0m                                  Traceback (most recent call last)",
      "\u001b[0;32m<ipython-input-235-d7b3d5ad8111>\u001b[0m in \u001b[0;36m<module>\u001b[0;34m\u001b[0m\n\u001b[1;32m      1\u001b[0m \u001b[0ms\u001b[0m \u001b[0;34m=\u001b[0m \u001b[0mtest\u001b[0m\u001b[0;34m[\u001b[0m\u001b[0;36m1\u001b[0m\u001b[0;34m]\u001b[0m\u001b[0;34m\u001b[0m\u001b[0;34m\u001b[0m\u001b[0m\n\u001b[1;32m      2\u001b[0m \u001b[0mbrack_s\u001b[0m \u001b[0;34m=\u001b[0m \u001b[0mbracket_to_list\u001b[0m\u001b[0;34m(\u001b[0m\u001b[0ms\u001b[0m\u001b[0;34m)\u001b[0m\u001b[0;34m\u001b[0m\u001b[0;34m\u001b[0m\u001b[0m\n\u001b[0;32m----> 3\u001b[0;31m \u001b[0mt\u001b[0m \u001b[0;34m=\u001b[0m \u001b[0mtree_from_sentence\u001b[0m\u001b[0;34m(\u001b[0m\u001b[0ms\u001b[0m\u001b[0;34m)\u001b[0m\u001b[0;34m\u001b[0m\u001b[0;34m\u001b[0m\u001b[0m\n\u001b[0m\u001b[1;32m      4\u001b[0m \u001b[0mt\u001b[0m \u001b[0;34m=\u001b[0m \u001b[0mbinarize_tree\u001b[0m\u001b[0;34m(\u001b[0m\u001b[0mt\u001b[0m\u001b[0;34m)\u001b[0m\u001b[0;34m\u001b[0m\u001b[0;34m\u001b[0m\u001b[0m\n\u001b[1;32m      5\u001b[0m \u001b[0mtree_to_string\u001b[0m\u001b[0;34m(\u001b[0m\u001b[0mt\u001b[0m\u001b[0;34m)\u001b[0m\u001b[0;34m\u001b[0m\u001b[0;34m\u001b[0m\u001b[0m\n",
      "\u001b[0;32m<ipython-input-27-3c6d55e1f256>\u001b[0m in \u001b[0;36mtree_from_sentence\u001b[0;34m(s)\u001b[0m\n\u001b[1;32m     77\u001b[0m \u001b[0;34m\u001b[0m\u001b[0m\n\u001b[1;32m     78\u001b[0m \u001b[0;32mdef\u001b[0m \u001b[0mtree_from_sentence\u001b[0m\u001b[0;34m(\u001b[0m\u001b[0ms\u001b[0m\u001b[0;34m)\u001b[0m\u001b[0;34m:\u001b[0m\u001b[0;34m\u001b[0m\u001b[0;34m\u001b[0m\u001b[0m\n\u001b[0;32m---> 79\u001b[0;31m     \u001b[0;32mreturn\u001b[0m \u001b[0m_tree_from_cyk\u001b[0m\u001b[0;34m(\u001b[0m\u001b[0mcyk\u001b[0m\u001b[0;34m(\u001b[0m\u001b[0ms\u001b[0m\u001b[0;34m)\u001b[0m\u001b[0;34m,\u001b[0m \u001b[0ms\u001b[0m\u001b[0;34m)\u001b[0m\u001b[0;34m\u001b[0m\u001b[0;34m\u001b[0m\u001b[0m\n\u001b[0m",
      "\u001b[0;32m<ipython-input-27-3c6d55e1f256>\u001b[0m in \u001b[0;36mcyk\u001b[0;34m(s)\u001b[0m\n\u001b[1;32m     51\u001b[0m \u001b[0;34m\u001b[0m\u001b[0m\n\u001b[1;32m     52\u001b[0m \u001b[0;32mdef\u001b[0m \u001b[0mcyk\u001b[0m\u001b[0;34m(\u001b[0m\u001b[0ms\u001b[0m\u001b[0;34m)\u001b[0m\u001b[0;34m:\u001b[0m\u001b[0;34m\u001b[0m\u001b[0;34m\u001b[0m\u001b[0m\n\u001b[0;32m---> 53\u001b[0;31m     \u001b[0ml\u001b[0m \u001b[0;34m=\u001b[0m \u001b[0;34m[\u001b[0m\u001b[0mfirst_non_terminaux_from_words\u001b[0m\u001b[0;34m(\u001b[0m\u001b[0ms\u001b[0m\u001b[0;34m)\u001b[0m\u001b[0;34m]\u001b[0m\u001b[0;34m\u001b[0m\u001b[0;34m\u001b[0m\u001b[0m\n\u001b[0m\u001b[1;32m     54\u001b[0m     \u001b[0;32mwhile\u001b[0m \u001b[0mlen\u001b[0m\u001b[0;34m(\u001b[0m\u001b[0ml\u001b[0m\u001b[0;34m[\u001b[0m\u001b[0;34m-\u001b[0m\u001b[0;36m1\u001b[0m\u001b[0;34m]\u001b[0m\u001b[0;34m)\u001b[0m\u001b[0;34m>\u001b[0m\u001b[0;36m1\u001b[0m\u001b[0;34m:\u001b[0m\u001b[0;34m\u001b[0m\u001b[0;34m\u001b[0m\u001b[0m\n\u001b[1;32m     55\u001b[0m         \u001b[0ml\u001b[0m\u001b[0;34m.\u001b[0m\u001b[0mappend\u001b[0m\u001b[0;34m(\u001b[0m\u001b[0miter_cyk\u001b[0m\u001b[0;34m(\u001b[0m\u001b[0ml\u001b[0m\u001b[0;34m)\u001b[0m\u001b[0;34m)\u001b[0m\u001b[0;34m\u001b[0m\u001b[0;34m\u001b[0m\u001b[0m\n",
      "\u001b[0;32m<ipython-input-27-3c6d55e1f256>\u001b[0m in \u001b[0;36mfirst_non_terminaux_from_words\u001b[0;34m(s)\u001b[0m\n\u001b[1;32m      3\u001b[0m     \u001b[0mnon_term_list\u001b[0m \u001b[0;34m=\u001b[0m \u001b[0;34m[\u001b[0m\u001b[0;34m]\u001b[0m\u001b[0;34m\u001b[0m\u001b[0;34m\u001b[0m\u001b[0m\n\u001b[1;32m      4\u001b[0m     \u001b[0;32mfor\u001b[0m \u001b[0mw\u001b[0m \u001b[0;32min\u001b[0m \u001b[0ms\u001b[0m\u001b[0;34m:\u001b[0m\u001b[0;34m\u001b[0m\u001b[0;34m\u001b[0m\u001b[0m\n\u001b[0;32m----> 5\u001b[0;31m         \u001b[0mwdic\u001b[0m \u001b[0;34m=\u001b[0m \u001b[0mlexicon_norm\u001b[0m\u001b[0;34m[\u001b[0m\u001b[0mw\u001b[0m\u001b[0;34m]\u001b[0m\u001b[0;34m\u001b[0m\u001b[0;34m\u001b[0m\u001b[0m\n\u001b[0m\u001b[1;32m      6\u001b[0m         \u001b[0mnwdic\u001b[0m \u001b[0;34m=\u001b[0m \u001b[0;34m{\u001b[0m\u001b[0mk\u001b[0m\u001b[0;34m:\u001b[0m\u001b[0;34m[\u001b[0m\u001b[0mv\u001b[0m\u001b[0;34m]\u001b[0m \u001b[0;32mfor\u001b[0m \u001b[0;34m(\u001b[0m\u001b[0mk\u001b[0m\u001b[0;34m,\u001b[0m \u001b[0mv\u001b[0m\u001b[0;34m)\u001b[0m \u001b[0;32min\u001b[0m \u001b[0mwdic\u001b[0m\u001b[0;34m.\u001b[0m\u001b[0mitems\u001b[0m\u001b[0;34m(\u001b[0m\u001b[0;34m)\u001b[0m\u001b[0;34m}\u001b[0m\u001b[0;34m\u001b[0m\u001b[0;34m\u001b[0m\u001b[0m\n\u001b[1;32m      7\u001b[0m         \u001b[0madd_every_unary\u001b[0m\u001b[0;34m(\u001b[0m\u001b[0mnwdic\u001b[0m\u001b[0;34m)\u001b[0m\u001b[0;34m\u001b[0m\u001b[0;34m\u001b[0m\u001b[0m\n",
      "\u001b[0;31mKeyError\u001b[0m: '('"
     ],
     "output_type": "error"
    }
   ],
   "source": [
    "s = test[1]\n",
    "brack_s = bracket_to_list(s)\n",
    "t = tree_from_sentence(s)\n",
    "t = binarize_tree(t)\n",
    "tree_to_string(t)"
   ]
  },
  {
   "cell_type": "code",
   "execution_count": 231,
   "metadata": {},
   "outputs": [
    {
     "data": {
      "text/plain": [
       "{'V': 624, 'ET': 2}"
      ]
     },
     "execution_count": 231,
     "metadata": {},
     "output_type": "execute_result"
    }
   ],
   "source": [
    "lexicon['a']"
   ]
  },
  {
   "cell_type": "code",
   "execution_count": 182,
   "metadata": {},
   "outputs": [
    {
     "name": "stdout",
     "output_type": "stream",
     "text": [
      "1 1 Gutenberg NPP NPP\n1 2 XIIe NPP ADJ\n2 3 Dammarie-sur-Saulx NPP NPP\n"
     ]
    },
    {
     "name": "stdout",
     "output_type": "stream",
     "text": [
      "3 4 métallurgique ADJ ADJ\n"
     ]
    },
    {
     "name": "stdout",
     "output_type": "stream",
     "text": [
      "4 5 existait V V\n4 6 à_peu_près P ADV\n5 7 Gutenberg NPP NPP\n"
     ]
    },
    {
     "name": "stdout",
     "output_type": "stream",
     "text": [
      "5 8 inventait NC V\n"
     ]
    },
    {
     "name": "stdout",
     "output_type": "stream",
     "text": [
      "6 9 imprimerie NC NC\n7 10 Gillet NPP NPP\n8 11 Bonnemire NPP NPP\n"
     ]
    },
    {
     "name": "stdout",
     "output_type": "stream",
     "text": [
      "9 12 1450 NC NC\n"
     ]
    },
    {
     "name": "stdout",
     "output_type": "stream",
     "text": [
      "10 13 forge NC NC\n11 14 Saint-Dizier NPP NPP\n"
     ]
    },
    {
     "name": "stdout",
     "output_type": "stream",
     "text": [
      "12 15 emplacement NC NC\n13 16 CHS NPP NPP\n"
     ]
    },
    {
     "name": "stdout",
     "output_type": "stream",
     "text": [
      "14 17 installée VPP VPP\n"
     ]
    },
    {
     "name": "stdout",
     "output_type": "stream",
     "text": [
      "15 18 forge NC NC\n16 19 Vacquerie NPP NPP\n"
     ]
    },
    {
     "name": "stdout",
     "output_type": "stream",
     "text": [
      "17 20 emplacement NC NC\n18 21 Cora NPP NPP\n"
     ]
    },
    {
     "name": "stdout",
     "output_type": "stream",
     "text": [
      "19 22 1953 NC NC\n"
     ]
    },
    {
     "name": "stdout",
     "output_type": "stream",
     "text": [
      "20 23 hauts ADJ ADJ\n"
     ]
    },
    {
     "name": "stdout",
     "output_type": "stream",
     "text": [
      "21 24 fourneaux NC NC\n"
     ]
    },
    {
     "name": "stdout",
     "output_type": "stream",
     "text": [
      "22 25 fonderies NC NC\n23 26 Cousances NPP NPP\n"
     ]
    },
    {
     "name": "stdout",
     "output_type": "stream",
     "text": [
      "24 27 virent V V\n25 28 Baudesson NPP NPP\n"
     ]
    },
    {
     "name": "stdout",
     "output_type": "stream",
     "text": [
      "26 29 échevin NC NC\n27 30 Saint-Dizier NPP NPP\n"
     ]
    },
    {
     "name": "stdout",
     "output_type": "stream",
     "text": [
      "27 30 patentes NC ADJ\n28 31 Henri NPP NPP\n"
     ]
    },
    {
     "name": "stdout",
     "output_type": "stream",
     "text": [
      "28 32 installa VPP V\n29 33 Marnaval NPP NPP\n"
     ]
    },
    {
     "name": "stdout",
     "output_type": "stream",
     "text": [
      "30 34 signifiait V V\n"
     ]
    },
    {
     "name": "stdout",
     "output_type": "stream",
     "text": [
      "30 35 val V NC\n"
     ]
    },
    {
     "name": "stdout",
     "output_type": "stream",
     "text": [
      "30 36 vallée ADJ NC\n31 37 Marne NPP NPP\n31 38 ou_bien P CC\n"
     ]
    },
    {
     "name": "stdout",
     "output_type": "stream",
     "text": [
      "31 38 aval NPP NC\n32 39 Marne NPP NPP\n"
     ]
    },
    {
     "name": "stdout",
     "output_type": "stream",
     "text": [
      "33 40 forge NC NC\n"
     ]
    },
    {
     "name": "stdout",
     "output_type": "stream",
     "text": [
      "34 41 connut V V\n"
     ]
    },
    {
     "name": "stdout",
     "output_type": "stream",
     "text": [
      "35 42 apogée NC NC\n35 43 Tout_au_long_des P P+D\n"
     ]
    },
    {
     "name": "stdout",
     "output_type": "stream",
     "text": [
      "36 44 créés VPP VPP\n37 45 Haironville NPP NPP\n38 46 Ancerville NPP NPP\n"
     ]
    },
    {
     "name": "stdout",
     "output_type": "stream",
     "text": [
      "39 47 Amélioration NC NC\n"
     ]
    },
    {
     "name": "stdout",
     "output_type": "stream",
     "text": [
      "40 48 invité VPP VPP\n"
     ]
    },
    {
     "name": "stdout",
     "output_type": "stream",
     "text": [
      "41 49 routière ADJ ADJ\n"
     ]
    },
    {
     "name": "stdout",
     "output_type": "stream",
     "text": [
      "42 50 automobilistes NC NC\n"
     ]
    },
    {
     "name": "stdout",
     "output_type": "stream",
     "text": [
      "43 51 quitté VPP VPP\n"
     ]
    },
    {
     "name": "stdout",
     "output_type": "stream",
     "text": [
      "43 52 chaussée ADJ NC\n"
     ]
    },
    {
     "name": "stdout",
     "output_type": "stream",
     "text": [
      "44 53 intersection NC NC\n44 53 RD192 NPP NC\n"
     ]
    },
    {
     "name": "stdout",
     "output_type": "stream",
     "text": [
      "45 54 rural ADJ ADJ\n46 55 Vaux NPP NPP\n47 56 Fossés NPP NPP\n"
     ]
    },
    {
     "name": "stdout",
     "output_type": "stream",
     "text": [
      "48 57 panneau NC NC\n"
     ]
    },
    {
     "name": "stdout",
     "output_type": "stream",
     "text": [
      "49 58 stop NC NC\n"
     ]
    },
    {
     "name": "stdout",
     "output_type": "stream",
     "text": [
      "50 59 formule NC NC\n"
     ]
    },
    {
     "name": "stdout",
     "output_type": "stream",
     "text": [
      "51 60 usagers NC NC\n"
     ]
    },
    {
     "name": "stdout",
     "output_type": "stream",
     "text": [
      "51 60 délibérant ADJ VPR\n"
     ]
    },
    {
     "name": "stdout",
     "output_type": "stream",
     "text": [
      "51 61 accepté V VPP\n52 62 DDE NPP NPP\n"
     ]
    },
    {
     "name": "stdout",
     "output_type": "stream",
     "text": [
      "52 62 amendes VPP NC\n"
     ]
    },
    {
     "name": "stdout",
     "output_type": "stream",
     "text": [
      "53 63 Espoir NC NC\n"
     ]
    },
    {
     "name": "stdout",
     "output_type": "stream",
     "text": [
      "54 64 remise NC NC\n"
     ]
    },
    {
     "name": "stdout",
     "output_type": "stream",
     "text": [
      "54 65 lavoir V NC\n"
     ]
    },
    {
     "name": "stdout",
     "output_type": "stream",
     "text": [
      "55 66 abrite V V\n"
     ]
    },
    {
     "name": "stdout",
     "output_type": "stream",
     "text": [
      "56 67 inaugurée VPP VPP\n57 68 Thiriot NPP NPP\n57 68 Association NPP NC\n"
     ]
    },
    {
     "name": "stdout",
     "output_type": "stream",
     "text": [
      "58 69 insertion NC NC\n59 70 Saulx NPP NPP\n60 71 Perthois NPP NPP\n"
     ]
    },
    {
     "name": "stdout",
     "output_type": "stream",
     "text": [
      "61 72 canton NC NC\n"
     ]
    },
    {
     "name": "stdout",
     "output_type": "stream",
     "text": [
      "62 73 décors NC NC\n"
     ]
    },
    {
     "name": "stdout",
     "output_type": "stream",
     "text": [
      "62 73 bénévoles ADJ NC\n62 73 Cinq NPP DET\n"
     ]
    },
    {
     "name": "stdout",
     "output_type": "stream",
     "text": [
      "63 74 siècles NC NC\n64 75 Ancerville NPP NPP\n65 76 Thiriot NPP NPP\n"
     ]
    },
    {
     "name": "stdout",
     "output_type": "stream",
     "text": [
      "66 77 abondante ADJ ADJ\n"
     ]
    },
    {
     "name": "stdout",
     "output_type": "stream",
     "text": [
      "67 78 forêt NC NC\n"
     ]
    },
    {
     "name": "stdout",
     "output_type": "stream",
     "text": [
      "68 79 fournissant VPR VPR\n"
     ]
    },
    {
     "name": "stdout",
     "output_type": "stream",
     "text": [
      "69 80 combustible NC NC\n"
     ]
    },
    {
     "name": "stdout",
     "output_type": "stream",
     "text": [
      "70 81 minerai NC NC\n"
     ]
    },
    {
     "name": "stdout",
     "output_type": "stream",
     "text": [
      "70 82 exploitable NC ADJ\n"
     ]
    },
    {
     "name": "stdout",
     "output_type": "stream",
     "text": [
      "71 83 incité VPP VPP\n72 84 Saint-Dizier NPP NPP\n"
     ]
    },
    {
     "name": "stdout",
     "output_type": "stream",
     "text": [
      "73 85 papeteries NC NC\n74 86 Jeand'Heurs NPP NPP\n"
     ]
    },
    {
     "name": "stdout",
     "output_type": "stream",
     "text": [
      "74 87 carrières NPP NC\n75 88 Savonnières NPP NPP\n"
     ]
    },
    {
     "name": "stdout",
     "output_type": "stream",
     "text": [
      "75 89 lavoir V NC\n"
     ]
    },
    {
     "name": "stdout",
     "output_type": "stream",
     "text": [
      "75 90 étonnant NC ADJ\n"
     ]
    },
    {
     "name": "stdout",
     "output_type": "stream",
     "text": [
      "76 91 photos NC NC\n"
     ]
    },
    {
     "name": "stdout",
     "output_type": "stream",
     "text": [
      "77 92 réalisations NC NC\n"
     ]
    },
    {
     "name": "stdout",
     "output_type": "stream",
     "text": [
      "78 93 outils NC NC\n"
     ]
    },
    {
     "name": "stdout",
     "output_type": "stream",
     "text": [
      "79 94 permettront V V\n"
     ]
    },
    {
     "name": "stdout",
     "output_type": "stream",
     "text": [
      "80 95 situé VPP VPP\n81 96 Marches NPP NPP\n"
     ]
    },
    {
     "name": "stdout",
     "output_type": "stream",
     "text": [
      "82 97 prédilection NC NC\n"
     ]
    },
    {
     "name": "stdout",
     "output_type": "stream",
     "text": [
      "83 98 invasions NC NC\n"
     ]
    },
    {
     "name": "stdout",
     "output_type": "stream",
     "text": [
      "84 99 labeur NC NC\n"
     ]
    },
    {
     "name": "stdout",
     "output_type": "stream",
     "text": [
      "84 100 durs VPP ADJ\n85 101 Thiriot NPP NPP\n"
     ]
    },
    {
     "name": "stdout",
     "output_type": "stream",
     "text": [
      "86 102 ambition NC NC\n"
     ]
    }
   ],
   "source": [
    "e = evaluate_oov()"
   ]
  },
  {
   "cell_type": "code",
   "execution_count": 307,
   "metadata": {},
   "outputs": [],
   "source": [
    "with open('test.txt', encoding='utf-8') as input_file:\n",
    "    test_model = input_file.readlines()\n",
    "    \n",
    "with open('test_truth.txt', encoding='utf-8') as input_file:\n",
    "    test = input_file.readlines()"
   ]
  },
  {
   "cell_type": "code",
   "execution_count": 341,
   "metadata": {},
   "outputs": [
    {
     "name": "stdout",
     "output_type": "stream",
     "text": [
      "Number of sentences : 310 - Number of sentences not in grammar : 5 - Success Ratio : 0.984\n----POS Accuracy----\nskipping non parsed sentences\nNumber of POS : 6272 - Success Rate : 0.926\naccounting for non parsed sentences\nNumber of POS : 6441 - Success Rate : 0.901\n-------------------------------------------------------\nCommon mistakes : \nTrue label : NC - Predicted label : NPP - number : 61\nTrue label : NC - Predicted label : ADJ - number : 49\nTrue label : ET - Predicted label : NPP - number : 26\nTrue label : ADJ - Predicted label : NC - number : 21\nTrue label : NPP - Predicted label : NC - number : 17\n"
     ]
    }
   ],
   "source": [
    "good_pos = 0\n",
    "pos_tot = 0\n",
    "pos_tot_skip = 0\n",
    "not_in_gram_sent = 0\n",
    "\n",
    "mistakes = {}\n",
    "\n",
    "for nline, line in enumerate(test_model):\n",
    "    truth = Tree.fromstring(test[nline][:-1]).pos()\n",
    "    trial = Tree.fromstring(line[:-1]).pos()\n",
    "    if len(truth) != len(trial):\n",
    "        not_in_gram_sent += 1\n",
    "        pos_tot_skip += len(truth)\n",
    "    else:\n",
    "        for i, couple in enumerate(Tree.fromstring(line[:-1]).pos()):\n",
    "            pos_tot += 1\n",
    "            pos_tot_skip += 1\n",
    "            good_pos += truth[i][1] == couple[1]\n",
    "            if truth[i][1] != couple[1]:\n",
    "                mistakes[(truth[i][1], couple[1])] = mistakes.get((truth[i][1], couple[1]), 0) + 1\n",
    "common_mistakes = [(couple, mistakes[couple]) for couple in sorted(mistakes, key=mistakes.get, reverse=True)[:5]]\n",
    "            \n",
    "print(\"Number of sentences : {:d} - Number of sentences not in grammar : {:d} - Success Ratio : {:.3f}\".format(\n",
    "    len(test_model), not_in_gram_sent, 1 - not_in_gram_sent/len(test_model)))\n",
    "print(\"----POS Accuracy----\")\n",
    "print(\"-- skipping non parsed sentences --\")\n",
    "print(\"Number of POS : {:d} - Success Rate : {:.3f}\".format(pos_tot, good_pos/pos_tot))\n",
    "print(\"-- accounting for non parsed sentences --\")\n",
    "print(\"Number of POS : {:d} - Success Rate : {:.3f}\".format(pos_tot_skip, good_pos/pos_tot_skip))\n",
    "print(\"-------------------------------------------------------\")\n",
    "print(\"Common mistakes : \")\n",
    "for couple in common_mistakes:\n",
    "    print(\"True label : {:s} - Predicted label : {:s} - number : {:d}\".format(\n",
    "        couple[0][0], couple[0][1], couple[1]))"
   ]
  },
  {
   "cell_type": "code",
   "execution_count": 339,
   "metadata": {},
   "outputs": [
    {
     "data": {
      "text/plain": [
       "[(('NC', 'NPP'), 61),\n (('NC', 'ADJ'), 49),\n (('ET', 'NPP'), 26),\n (('ADJ', 'NC'), 21),\n (('NPP', 'NC'), 17)]"
      ]
     },
     "execution_count": 339,
     "metadata": {},
     "output_type": "execute_result"
    }
   ],
   "source": [
    "[(couple, mistakes[couple]) for couple in sorted(mistakes, key=mistakes.get, reverse=True)[:5]]"
   ]
  }
 ],
 "metadata": {
  "kernelspec": {
   "display_name": "Python 2",
   "language": "python",
   "name": "python2"
  },
  "language_info": {
   "codemirror_mode": {
    "name": "ipython",
    "version": 2.0
   },
   "file_extension": ".py",
   "mimetype": "text/x-python",
   "name": "python",
   "nbconvert_exporter": "python",
   "pygments_lexer": "ipython2",
   "version": "2.7.6"
  }
 },
 "nbformat": 4,
 "nbformat_minor": 0
}