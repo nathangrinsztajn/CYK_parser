{
 "cells": [
  {
   "cell_type": "code",
   "execution_count": 3,
   "metadata": {
    "collapsed": false
   },
   "outputs": [
    {
     "data": {
      "text/plain": [
       "2"
      ]
     },
     "execution_count": 3,
     "metadata": {},
     "output_type": "execute_result"
    }
   ],
   "source": [
    "1+1"
   ]
  },
  {
   "cell_type": "code",
   "execution_count": 119,
   "metadata": {},
   "outputs": [],
   "source": [
    "from nltk.tree import Tree, ParentedTree\n",
    "import nltk\n",
    "import re"
   ]
  },
  {
   "cell_type": "code",
   "execution_count": 347,
   "metadata": {},
   "outputs": [],
   "source": [
    "grammar = {}\n",
    "lexicon = {}\n",
    "#grammar_chomsky = {}\n",
    "\n",
    "def is_not_POS(x, phrase):\n",
    "    t = Tree.fromstring(phrase)\n",
    "    return x in t.leaves()\n",
    "\n",
    "def remove_leaf(p):\n",
    "    t = Tree.fromstring(p)\n",
    "    for w in t.leaves():\n",
    "        p = p.replace(\" \" + w, \"\")\n",
    "    return p\n",
    "\n",
    "def remove_function(p):\n",
    "    \"\"\"\n",
    "    :param p: string\n",
    "    :return: string without functional tags\n",
    "    \"\"\"\n",
    "    return re.sub(r'-[^ ]*', \"\", p)\n",
    "\n",
    "def deal_with_P(p):\n",
    "    return remove_function(remove_leaf(p[2: -1]))\n",
    "\n",
    "def parcour_tree(t):\n",
    "    for child in t:\n",
    "        l.append([t.label(), child.label()])\n",
    "        parcour_tree(child)\n",
    "        \n",
    "def parcour_tree_fin(t):\n",
    "    \"\"\"\n",
    "    :param t: binarized tree\n",
    "    :return: fill grammar and lexicon in place\n",
    "    \"\"\"\n",
    "    lab_cur = remove_function(t.label())\n",
    "    if isinstance(t[0], str):\n",
    "        lexicon[t[0]] = lexicon.get(t[0], {})\n",
    "        lexicon[t[0]][lab_cur] = lexicon[t[0]].get(lab_cur, 0) + 1\n",
    "        #lexicon.append([remove_function(t.label()), t[0]])\n",
    "    else:\n",
    "        child_t = []\n",
    "        for child in t:\n",
    "            child_t.append(remove_function(child.label()))\n",
    "        child_t = tuple(child_t)\n",
    "        grammar[lab_cur] = grammar.get(lab_cur, {})\n",
    "        grammar[lab_cur][child_t] =  grammar[lab_cur].get(child_t, 0)+1\n",
    "        for child in t:\n",
    "            parcour_tree_fin(child)\n",
    "            \n",
    "\"\"\"           \n",
    "count = [0]\n",
    "storage = {}\n",
    "\"\"\" \n",
    "\n",
    "def binarize_tree(t):\n",
    "    \"\"\"\n",
    "    :param t: tree\n",
    "    :return: binarized tree with new nodes\n",
    "    \"\"\"\n",
    "    #child = [binarize_tree(child)]\n",
    "    if isinstance(t[0], str):\n",
    "        return t\n",
    "    if len(t)<=2:\n",
    "        return Tree(t.label(), [binarize_tree(child) for child in t])\n",
    "    else:\n",
    "        new_pos = ''\n",
    "        for child in t[1:]:\n",
    "            new_pos = new_pos+'|'+child.label()\n",
    "        new_pos = new_pos[1:]\n",
    "        return Tree(t.label(), [binarize_tree(t[0]), Tree(new_pos, [binarize_tree(child) for child in t[1:]])])\n",
    "\n",
    "def remove_function_tree(t):\n",
    "    if not isinstance(t, str):\n",
    "        t.set_label(remove_function(t.label()))\n",
    "        for child in t:\n",
    "            remove_function_tree(child)\n",
    "            "
   ]
  },
  {
   "cell_type": "code",
   "execution_count": 615,
   "metadata": {},
   "outputs": [
    {
     "data": {
      "image/png": "[encoded data removed]",
      "text/plain": [
       "Tree('SENT', [Tree('ADVWH', ['Pourquoi']), Tree('NP', [Tree('DET', ['ce']), Tree('NC', ['thème'])]), Tree('PONCT', ['?'])])"
      ]
     },
     "metadata": {},
     "output_type": "display_data"
    }
   ],
   "source": [
    "t = Tree.fromstring(\"(SENT (ADVWH Pourquoi) (NP (DET ce) (NC thème)) (PONCT ?))\")\n",
    "t"
   ]
  },
  {
   "cell_type": "code",
   "execution_count": 616,
   "metadata": {},
   "outputs": [
    {
     "data": {
      "image/png": "[encoded data removed]",
      "text/plain": [
       "Tree('SENT', [Tree('ADVWH', ['Pourquoi']), Tree('NP|PONCT', [Tree('NP', [Tree('DET', ['ce']), Tree('NC', ['thème'])]), Tree('PONCT', ['?'])])])"
      ]
     },
     "metadata": {},
     "output_type": "display_data"
    }
   ],
   "source": [
    "#sanity check\n",
    "binarize_tree(t)"
   ]
  },
  {
   "cell_type": "code",
   "execution_count": null,
   "metadata": {},
   "outputs": [],
   "source": [
    "# Chomsky's grammar\n",
    "\n",
    "def normalize_grammar(g):\n",
    "    \"\"\"\n",
    "    :param g: grammar (dict of dict of count)\n",
    "    :return: normalized grammar (dict of dict of probability)\n",
    "    \"\"\"\n",
    "    for pos in g.keys():\n",
    "        count = sum(g[pos].values())\n",
    "        for key in g[pos].keys():\n",
    "            g[pos][key] /= count\n",
    "    return g\n",
    "\n",
    "#sanity check\n",
    "#print(grammar)\n",
    "#normalize_grammar(grammar)"
   ]
  },
  {
   "cell_type": "code",
   "execution_count": 589,
   "metadata": {},
   "outputs": [],
   "source": [
    "# Load dataset\n",
    "#there are 3099 lines in the whole dataset\n",
    "\n",
    "#fill the path\n",
    "filepath = '/Users/anneabeille/Documents/MVA/Speech/parser/sequoia-corpus+fct.mrg_strict' \n",
    "\n",
    "with open(filepath) as input_file:\n",
    "    lines=input_file.readlines()\n",
    "    train = lines[int(len(lines)*0.1):int(len(lines)*0.9)]\n",
    "    test = lines[int(len(lines)*0.9):]\n",
    "    val = lines[:int(len(lines)*0.1)]\n",
    "    \n",
    "grammar = {}\n",
    "lexicon = {}"
   ]
  },
  {
   "cell_type": "code",
   "execution_count": 591,
   "metadata": {},
   "outputs": [],
   "source": [
    "for line in train:\n",
    "    t = Tree.fromstring(line[2: -2])\n",
    "    t = binarize_tree(t)\n",
    "    parcour_tree_fin(t)\n",
    "    \n",
    "grammar = normalize_grammar(grammar)"
   ]
  },
  {
   "cell_type": "code",
   "execution_count": 595,
   "metadata": {},
   "outputs": [
    {
     "name": "stdout",
     "output_type": "stream",
     "text": [
      "3749\n39\n"
     ]
    }
   ],
   "source": [
    "#nombre de règles de la grammaire\n",
    "\n",
    "number_rules=0\n",
    "number_unit_rules = 0\n",
    "for pos in grammar:\n",
    "    number_rules += len(grammar[pos])\n",
    "    for key in grammar[pos]:\n",
    "        if len(key)==1:\n",
    "            number_unit_rules += 1\n",
    "print(number_rules)\n",
    "print(number_unit_rules)"
   ]
  },
  {
   "cell_type": "code",
   "execution_count": 380,
   "metadata": {},
   "outputs": [],
   "source": [
    "def remove_unit_grammar(grammar):\n",
    "    still_unit = False\n",
    "    for pos in grammar:\n",
    "        for key in list(grammar[pos]):\n",
    "            if len(key)==1:\n",
    "                proba = grammar[pos].pop(key)\n",
    "                for new_key in list(grammar.get(key[0], {})):\n",
    "                    grammar[pos][new_key] = grammar[pos].get(new_key, 0)\n",
    "                    grammar[pos][new_key] = grammar[pos][new_key] + proba*grammar[key[0]][new_key]\n",
    "                still_unit = True\n",
    "    return grammar, still_unit"
   ]
  },
  {
   "cell_type": "code",
   "execution_count": 386,
   "metadata": {},
   "outputs": [],
   "source": [
    "still_unit_in_g = True\n",
    "while still_unit_in_g:\n",
    "    grammar, still_unit_in_g = remove_unit_grammar(grammar)\n",
    "\n",
    "#need to renormalize\n",
    "grammar = normalize_grammar(grammar)"
   ]
  },
  {
   "cell_type": "code",
   "execution_count": 387,
   "metadata": {},
   "outputs": [
    {
     "name": "stdout",
     "output_type": "stream",
     "text": [
      "False\n7929\n0\n"
     ]
    }
   ],
   "source": [
    "print(bool)\n",
    "#nombre de règles de la grammaire\n",
    "\n",
    "number_rules=0\n",
    "number_unit_rules = 0\n",
    "for pos in grammar:\n",
    "    number_rules += len(grammar[pos])\n",
    "    for key in grammar[pos]:\n",
    "        if len(key)==1:\n",
    "            number_unit_rules += 1\n",
    "\n",
    "print(number_rules)\n",
    "\n",
    "#sanity check\n",
    "print(number_unit_rules)"
   ]
  },
  {
   "cell_type": "code",
   "execution_count": 596,
   "metadata": {},
   "outputs": [],
   "source": [
    "def invert_grammar(g):\n",
    "    g_inv = {}\n",
    "    for w, dic in g.items():\n",
    "        for pos, number in dic.items():\n",
    "            g_inv[pos] = g_inv.get(pos, {})\n",
    "            g_inv[pos][w] = number\n",
    "    return g_inv\n",
    "\n",
    "lexicon_inv = invert_grammar(lexicon)        \n",
    "lexicon_inv = normalize_grammar(lexicon_inv)\n",
    "lexicon_norm = invert_grammar(lexicon_inv)\n",
    "grammar_inv = invert_grammar(grammar)"
   ]
  },
  {
   "cell_type": "code",
   "execution_count": 630,
   "metadata": {},
   "outputs": [],
   "source": [
    "### CYK ###\n",
    "def first_non_terminaux_from_words(s):\n",
    "    non_term_list = []\n",
    "    for w in s:\n",
    "        wdic = lexicon_norm[w]\n",
    "        nwdic = {k:[v] for (k, v) in wdic.items()}\n",
    "        add_every_unary(nwdic)\n",
    "        non_term_list.append(nwdic)\n",
    "    return non_term_list\n",
    "\n",
    "def generate_couple(j, i):\n",
    "    return [[k, i, j-1-k, i+1+k] for k in range(j)]\n",
    "\n",
    "def iter_cyk(wlistlist):\n",
    "    pos_list = []\n",
    "    for i in range(len(wlistlist[-1])-1):\n",
    "        liste_couple = generate_couple(len(wlistlist), i)\n",
    "        new_dic = {}\n",
    "        for couple in liste_couple:\n",
    "            dic_g = wlistlist[couple[0]][couple[1]]\n",
    "            dic_d = wlistlist[couple[2]][couple[3]]\n",
    "            for pos1, v1 in dic_g.items():\n",
    "                for pos2, v2 in dic_d.items():\n",
    "                    #inutile maintenant#\n",
    "                    if not isinstance(v1, float):\n",
    "                        v1 = v1[0]\n",
    "                    if not isinstance(v2, float):\n",
    "                        v2 = v2[0]\n",
    "                    ### ###\n",
    "                    for pos_father, proba_trans in grammar_inv.get((pos1, pos2), {}).items():\n",
    "                        current_proba = new_dic.get(pos_father, [0])[0]\n",
    "                        if proba_trans*v1*v2 > current_proba:\n",
    "                            #on a trouvé un meilleur chemin pour pos_father\n",
    "                            new_dic[pos_father] = [proba_trans*v1*v2, pos1, pos2, couple]       \n",
    "        # Handling unary rules\n",
    "        add_every_unary(new_dic)\n",
    "        #\n",
    "        \n",
    "        #on normalise pour éviter les erreurs d'arrondis\n",
    "        sum_norm = sum(val[0] for val in new_dic.values())\n",
    "        for pos in new_dic.keys():\n",
    "            new_dic[pos][0] = new_dic[pos][0]/sum_norm \n",
    "        pos_list.append(new_dic)\n",
    "    return pos_list\n",
    "\n",
    "def cyk(s):\n",
    "    l = [first_non_terminaux_from_words(s)]\n",
    "    while len(l[-1])>1:\n",
    "        l.append(iter_cyk(l))\n",
    "    return l\n",
    "\n",
    "def _create_sub_tree(cyk_list, pos, coordinates, s):\n",
    "    if len(cyk_list[coordinates[0]][coordinates[1]][pos])==1:\n",
    "        #on a atteint une feuille\n",
    "        return Tree(pos, [Tree(s[coordinates[1]], [])]) \n",
    "    if len(cyk_list[coordinates[0]][coordinates[1]][pos])==2:\n",
    "        #unary rule\n",
    "        npos = cyk_list[coordinates[0]][coordinates[1]][pos][1]\n",
    "        return Tree(pos, [_create_sub_tree(cyk_list, npos, coordinates, s)]) \n",
    "    pos1 = cyk_list[coordinates[0]][coordinates[1]][pos][1]\n",
    "    pos2 = cyk_list[coordinates[0]][coordinates[1]][pos][2]\n",
    "    coordinates1 = cyk_list[coordinates[0]][coordinates[1]][pos][3][:2]\n",
    "    coordinates2 = cyk_list[coordinates[0]][coordinates[1]][pos][3][2:]\n",
    "    print(pos1)\n",
    "    print(pos2)\n",
    "    print(coordinates1)\n",
    "    print(coordinates2)\n",
    "    return Tree(pos, [_create_sub_tree(cyk_list, pos1, coordinates1, s), _create_sub_tree(cyk_list, pos2, coordinates2, s)])\n",
    "\n",
    "def _tree_from_cyk(cyk_list, s): \n",
    "    if cyk_list[-1][0].get('SENT', [0])[0] == 0:\n",
    "        print(\"The sentence is not in the grammar\")\n",
    "    else:\n",
    "        return _create_sub_tree(cyk_list, 'SENT', [len(cyk_list)-1, 0], s)\n",
    "\n",
    "def tree_from_sentence(s):\n",
    "    return _tree_from_cyk(cyk(s), s)"
   ]
  },
  {
   "cell_type": "code",
   "execution_count": 629,
   "metadata": {},
   "outputs": [],
   "source": [
    "### CYK with unary rules : possible to recover the \"real\" tree\n",
    "\n",
    "def _add_unary_tab_once(dico):\n",
    "    still_unit = False\n",
    "    for pos_from in list(dico.keys()):\n",
    "        pos_from = (pos_from,)\n",
    "        for pos_to in list(grammar_inv.get(pos_from, {})):\n",
    "            if grammar[pos_to][pos_from]*dico[pos_from[0]][0] > dico.get(pos_to, [0])[0]:\n",
    "                dico[pos_to] = [grammar[pos_to][pos_from]*dico[pos_from[0]][0], pos_from[0]]\n",
    "                still_unit = True\n",
    "    return still_unit\n",
    "\n",
    "def add_every_unary(dico):\n",
    "    again = True\n",
    "    while again:\n",
    "        again = _add_unary_tab_once(dico)"
   ]
  },
  {
   "cell_type": "code",
   "execution_count": 600,
   "metadata": {},
   "outputs": [
    {
     "data": {
      "text/plain": [
       "{'SENT': 0.0004032258064516129,\n 'NP': 0.13471399081041485,\n 'AP': 0.000335795836131632}"
      ]
     },
     "execution_count": 600,
     "metadata": {},
     "output_type": "execute_result"
    }
   ],
   "source": [
    "grammar_inv[('NC',)]"
   ]
  },
  {
   "cell_type": "code",
   "execution_count": 571,
   "metadata": {},
   "outputs": [
    {
     "data": {
      "text/plain": [
       "0.13471399081041485"
      ]
     },
     "execution_count": 571,
     "metadata": {},
     "output_type": "execute_result"
    }
   ],
   "source": [
    "grammar['NP'][('NC',)]"
   ]
  },
  {
   "cell_type": "code",
   "execution_count": 576,
   "metadata": {},
   "outputs": [
    {
     "data": {
      "text/plain": [
       "{'NC': [0.0005794222332588362],\n 'SENT': [9.190497649484526e-06, 'NP'],\n 'NP': [7.805628140658091e-05, 'NC'],\n 'AP': [1.945675732904084e-07, 'NC'],\n 'PP': [4.778175894134483e-08, 'NP'],\n 'COORD': [4.9496690809499624e-08, 'NP']}"
      ]
     },
     "execution_count": 576,
     "metadata": {},
     "output_type": "execute_result"
    }
   ],
   "source": [
    "dic = {'NC': [0.0005794222332588362]}\n",
    "add_every_unary(dic)\n",
    "dic"
   ]
  },
  {
   "cell_type": "code",
   "execution_count": 633,
   "metadata": {},
   "outputs": [
    {
     "name": "stdout",
     "output_type": "stream",
     "text": [
      "NP\nNP|PONCT\n[2, 0]\n[2, 3]\nDET\nNC|VPinf\n[0, 0]\n[1, 1]\nNC\nVPinf\n[0, 1]\n[0, 2]\nNP\nPONCT\n[1, 3]\n[0, 5]\nDET\nNC\n[0, 3]\n[0, 4]\n"
     ]
    },
    {
     "data": {
      "image/png": "[encoded data removed]",
      "text/plain": [
       "Tree('SENT', [Tree('NP', [Tree('DET', [Tree('les', [])]), Tree('NC|VPinf', [Tree('NC', [Tree('élus', [])]), Tree('VPinf', [Tree('VN', [Tree('V', [Tree('votent', [])])])])])]), Tree('NP|PONCT', [Tree('NP', [Tree('DET', [Tree('la', [])]), Tree('NC', [Tree('proportionnelle', [])])]), Tree('PONCT', [Tree('.', [])])])])"
      ]
     },
     "metadata": {},
     "output_type": "display_data"
    }
   ],
   "source": [
    "tree_from_sentence([\"les\", \"élus\", \"votent\", 'la', \"proportionnelle\", \".\"])"
   ]
  },
  {
   "cell_type": "code",
   "execution_count": 564,
   "metadata": {},
   "outputs": [
    {
     "data": {
      "text/plain": [
       "[[{'DET': [0.10122658040167139], 'CLO': [0.05627705627705628]},\n  {'NC': [0.0005794222332588362]},\n  {'V': [0.0006447453255963894]},\n  {'DET': [0.1678123736352608], 'CLO': [0.04329004329004329]},\n  {'NC': [8.277460475126231e-05]},\n  {'PONCT': [0.3093607305936073]}],\n [{'NP': [0.12859049498056055, 'DET', 'NC', [0, 0, 0, 1]],\n   'DET|NC': [0.8714095050194395, 'DET', 'NC', [0, 0, 0, 1]]},\n  {},\n  {},\n  {'NP': [0.12859049498056055, 'DET', 'NC', [0, 3, 0, 4]],\n   'DET|NC': [0.8714095050194395, 'DET', 'NC', [0, 3, 0, 4]]},\n  {'NP': [0.00013316465809974033, 'NC', 'PONCT', [0, 4, 0, 5]],\n   'NC|PONCT': [0.9998668353419002, 'NC', 'PONCT', [0, 4, 0, 5]]}],\n [{},\n  {},\n  {'VN': [1.0, 'V', 'NP', [0, 2, 1, 3]]},\n  {'NP': [0.0018072575444543974, 'NP', 'PONCT', [1, 3, 0, 5]],\n   'SENT': [0.028921794417271093, 'NP', 'PONCT', [1, 3, 0, 5]],\n   'NP|PONCT': [0.9692709480382745, 'NP', 'PONCT', [1, 3, 0, 5]]}],\n [{},\n  {},\n  {'VN': [4.032804189916722e-09, 'V', 'NP', [0, 2, 2, 3]],\n   'SENT': [0.0004030632793096316, 'VN', 'PONCT', [2, 2, 0, 5]],\n   'VN|PONCT': [0.9995969326878862, 'VN', 'PONCT', [2, 2, 0, 5]]}],\n [{'NP': [0.016451816559503715, 'NP', 'VN', [1, 0, 2, 2]],\n   'VPinf': [0.00860705578574649, 'NP', 'VN', [1, 0, 2, 2]],\n   'VPpart': [0.01083583023131874, 'NP', 'VN', [1, 0, 2, 2]],\n   'Srel': [0.7986754179118554, 'NP', 'VN', [1, 0, 2, 2]],\n   'Ssub': [0.014601473361351494, 'NP', 'VN', [1, 0, 2, 2]],\n   'Sint': [0.15082840615022422, 'NP', 'VN', [1, 0, 2, 2]]},\n  {}],\n [{'NP': [0.0001573804089628341, 'NP', 'PONCT', [4, 0, 0, 5]],\n   'VPinf': [0.0016245686760488853, 'VPinf', 'PONCT', [4, 0, 0, 5]],\n   'VPpart': [9.052930248840897e-12, 'NP', 'VN', [1, 0, 3, 2]],\n   'Srel': [6.672633933412903e-10, 'NP', 'VN', [1, 0, 3, 2]],\n   'Ssub': [0.0037190975374464426, 'Ssub', 'PONCT', [4, 0, 0, 5]],\n   'Sint': [1.260114833171993e-10, 'NP', 'VN', [1, 0, 3, 2]],\n   'SENT': [0.017191306111283302, 'NP', 'VN|PONCT', [1, 0, 3, 2]],\n   'NP|PONCT': [0.08440648576410285, 'NP', 'PONCT', [4, 0, 0, 5]],\n   'VPinf|PONCT': [0.04415873037623788, 'VPinf', 'PONCT', [4, 0, 0, 5]],\n   'Ssub|PONCT': [0.07491325039713549, 'Ssub', 'PONCT', [4, 0, 0, 5]],\n   'Sint|PONCT': [0.7738291799264545, 'Sint', 'PONCT', [4, 0, 0, 5]]}]]"
      ]
     },
     "execution_count": 564,
     "metadata": {},
     "output_type": "execute_result"
    }
   ],
   "source": [
    "cyk([\"les\", \"élus\", \"votent\", 'la', \"proportionnelle\", \".\"])"
   ]
  },
  {
   "cell_type": "code",
   "execution_count": 506,
   "metadata": {},
   "outputs": [
    {
     "name": "stdout",
     "output_type": "stream",
     "text": [
      "NP\nVN|PONCT\n[1, 0]\n[3, 2]\nDET\nNC\n[0, 0]\n[0, 1]\nVN\nPONCT\n[2, 2]\n[0, 5]\nV\nNP\n[0, 2]\n[1, 3]\nDET\nNC\n[0, 3]\n[0, 4]\n"
     ]
    },
    {
     "data": {
      "image/png": "[encoded data removed]",
      "text/plain": [
       "Tree('SENT', [Tree('NP', [Tree('DET', [Tree('les', [])]), Tree('NC', [Tree('élus', [])])]), Tree('VN|PONCT', [Tree('VN', [Tree('V', [Tree('votent', [])]), Tree('NP', [Tree('DET', [Tree('la', [])]), Tree('NC', [Tree('proportionnelle', [])])])]), Tree('PONCT', [Tree('.', [])])])])"
      ]
     },
     "metadata": {},
     "output_type": "display_data"
    }
   ],
   "source": [
    "tree_from_cyk(cyk([\"les\", \"élus\", \"votent\", 'la', \"proportionnelle\", \".\"]), [\"les\", \"élus\", \"votent\", 'la', \"proportionnelle\", \".\"])"
   ]
  },
  {
   "cell_type": "code",
   "execution_count": null,
   "metadata": {},
   "outputs": [],
   "source": [
    ""
   ]
  },
  {
   "cell_type": "code",
   "execution_count": 511,
   "metadata": {},
   "outputs": [],
   "source": [
    "sent = \"\"\"( (SENT (PONCT \") (NP (NPP Paris) (PONCT ,) (NP-MOD (NC ville) (PP (P de) (NP (NC lumière))))) (PONCT !) (PONCT \")))\"\"\""
   ]
  },
  {
   "cell_type": "code",
   "execution_count": 603,
   "metadata": {},
   "outputs": [],
   "source": [
    "sent_n = [\"'\" , \"Paris\", \",\", \"ville\", \"de\", \"lumière\", \"!\", \"'\"]"
   ]
  },
  {
   "cell_type": "code",
   "execution_count": 518,
   "metadata": {},
   "outputs": [
    {
     "data": {
      "image/png": "[encoded data removed]",
      "text/plain": [
       "Tree('', [Tree('SENT', [Tree('PONCT', ['\"']), Tree('NP', [Tree('NPP', ['Verdun']), Tree('PONCT', [',']), Tree('NP-MOD', [Tree('NC', ['ville']), Tree('PP', [Tree('P', ['de']), Tree('NP', [Tree('NC', ['lumière'])])])])]), Tree('PONCT', ['!']), Tree('PONCT', ['\"'])])])"
      ]
     },
     "metadata": {},
     "output_type": "display_data"
    }
   ],
   "source": [
    "Tree.fromstring(sent)"
   ]
  },
  {
   "cell_type": "code",
   "execution_count": 604,
   "metadata": {},
   "outputs": [
    {
     "name": "stdout",
     "output_type": "stream",
     "text": [
      "NP\nNP|PONCT\n[2, 0]\n[4, 3]\nPONCT\nNPP|PONCT\n[0, 0]\n[1, 1]\nNPP\nPONCT\n[0, 1]\n[0, 2]\nNP\nPONCT\n[3, 3]\n[0, 7]\nNC\nPP\n[0, 3]\n[2, 4]\nP\nNP\n[0, 4]\n[1, 5]\nNC\nPONCT\n[0, 5]\n[0, 6]\n"
     ]
    },
    {
     "data": {
      "image/png": "[encoded data removed]",
      "text/plain": [
       "Tree('SENT', [Tree('NP', [Tree('PONCT', [Tree(\"'\", [])]), Tree('NPP|PONCT', [Tree('NPP', [Tree('Paris', [])]), Tree('PONCT', [Tree(',', [])])])]), Tree('NP|PONCT', [Tree('NP', [Tree('NC', [Tree('ville', [])]), Tree('PP', [Tree('P', [Tree('de', [])]), Tree('NP', [Tree('NC', [Tree('lumière', [])]), Tree('PONCT', [Tree('!', [])])])])]), Tree('PONCT', [Tree(\"'\", [])])])])"
      ]
     },
     "metadata": {},
     "output_type": "display_data"
    }
   ],
   "source": [
    "tree_from_sentence(sent_n)"
   ]
  },
  {
   "cell_type": "code",
   "execution_count": 523,
   "metadata": {},
   "outputs": [
    {
     "name": "stdout",
     "output_type": "stream",
     "text": [
      "NP\nNP|PONCT\n[2, 0]\n[4, 3]\nPONCT\nNPP|PONCT\n[0, 0]\n[1, 1]\nNPP\nPONCT\n[0, 1]\n[0, 2]\nNP\nPONCT\n[3, 3]\n[0, 7]\nNC\nPP\n[0, 3]\n[2, 4]\nP\nNP\n[0, 4]\n[1, 5]\nNC\nPONCT\n[0, 5]\n[0, 6]\n"
     ]
    },
    {
     "data": {
      "image/png": "[encoded data removed]",
      "text/plain": [
       "Tree('SENT', [Tree('NP', [Tree('PONCT', [Tree(\"'\", [])]), Tree('NPP|PONCT', [Tree('NPP', [Tree('Paris', [])]), Tree('PONCT', [Tree(',', [])])])]), Tree('NP|PONCT', [Tree('NP', [Tree('NC', [Tree('ville', [])]), Tree('PP', [Tree('P', [Tree('de', [])]), Tree('NP', [Tree('NC', [Tree('lumière', [])]), Tree('PONCT', [Tree('!', [])])])])]), Tree('PONCT', [Tree(\"'\", [])])])])"
      ]
     },
     "metadata": {},
     "output_type": "display_data"
    }
   ],
   "source": [
    "tree_from_sentence(sent_n)"
   ]
  },
  {
   "cell_type": "code",
   "execution_count": 476,
   "metadata": {},
   "outputs": [
    {
     "name": "stdout",
     "output_type": "stream",
     "text": [
      "4\n[[0, 0, 0, 1]]\n[[0, 1, 0, 2]]\n[[0, 2, 0, 3]]\n[[0, 3, 0, 4]]\n"
     ]
    },
    {
     "data": {
      "text/plain": [
       "[{'NP': [0.12859049498056055, 'DET', 'NC'],\n  'DET|NC': [0.8714095050194395, 'DET', 'NC']},\n {},\n {},\n {'NP': [0.12859049498056055, 'DET', 'NC'],\n  'DET|NC': [0.8714095050194395, 'DET', 'NC']}]"
      ]
     },
     "execution_count": 476,
     "metadata": {},
     "output_type": "execute_result"
    }
   ],
   "source": [
    "iter_cyk([first_non_terminaux_from_words([\"les\", \"élus\", \"votent\", 'la', \"proportionnelle\"])])"
   ]
  },
  {
   "cell_type": "code",
   "execution_count": 477,
   "metadata": {},
   "outputs": [
    {
     "name": "stdout",
     "output_type": "stream",
     "text": [
      "4\n[[0, 0, 0, 1]]\n[[0, 1, 0, 2]]\n[[0, 2, 0, 3]]\n[[0, 3, 0, 4]]\n1\n[[0, 0, 3, 1], [1, 0, 2, 2], [2, 0, 1, 3], [3, 0, 0, 4]]\n"
     ]
    },
    {
     "ename": "KeyError",
     "evalue": "0",
     "traceback": [
      "\u001b[0;31m---------------------------------------------------------------------------\u001b[0m",
      "\u001b[0;31mKeyError\u001b[0m                                  Traceback (most recent call last)",
      "\u001b[0;32m<ipython-input-477-648332809576>\u001b[0m in \u001b[0;36m<module>\u001b[0;34m\u001b[0m\n\u001b[0;32m----> 1\u001b[0;31m \u001b[0miter_cyk\u001b[0m\u001b[0;34m(\u001b[0m\u001b[0miter_cyk\u001b[0m\u001b[0;34m(\u001b[0m\u001b[0;34m[\u001b[0m\u001b[0mfirst_non_terminaux_from_words\u001b[0m\u001b[0;34m(\u001b[0m\u001b[0;34m[\u001b[0m\u001b[0;34m\"les\"\u001b[0m\u001b[0;34m,\u001b[0m \u001b[0;34m\"élus\"\u001b[0m\u001b[0;34m,\u001b[0m \u001b[0;34m\"votent\"\u001b[0m\u001b[0;34m,\u001b[0m \u001b[0;34m'la'\u001b[0m\u001b[0;34m,\u001b[0m \u001b[0;34m\"proportionnelle\"\u001b[0m\u001b[0;34m]\u001b[0m\u001b[0;34m)\u001b[0m\u001b[0;34m]\u001b[0m\u001b[0;34m)\u001b[0m\u001b[0;34m)\u001b[0m\u001b[0;34m\u001b[0m\u001b[0;34m\u001b[0m\u001b[0m\n\u001b[0m",
      "\u001b[0;32m<ipython-input-474-40dcad0fa2bb>\u001b[0m in \u001b[0;36miter_cyk\u001b[0;34m(wlistlist)\u001b[0m\n\u001b[1;32m     18\u001b[0m         \u001b[0mprint\u001b[0m\u001b[0;34m(\u001b[0m\u001b[0mliste_couple\u001b[0m\u001b[0;34m)\u001b[0m\u001b[0;34m\u001b[0m\u001b[0;34m\u001b[0m\u001b[0m\n\u001b[1;32m     19\u001b[0m         \u001b[0;32mfor\u001b[0m \u001b[0mcouple\u001b[0m \u001b[0;32min\u001b[0m \u001b[0mliste_couple\u001b[0m\u001b[0;34m:\u001b[0m\u001b[0;34m\u001b[0m\u001b[0;34m\u001b[0m\u001b[0m\n\u001b[0;32m---> 20\u001b[0;31m             \u001b[0mdic_g\u001b[0m \u001b[0;34m=\u001b[0m \u001b[0mwlistlist\u001b[0m\u001b[0;34m[\u001b[0m\u001b[0mcouple\u001b[0m\u001b[0;34m[\u001b[0m\u001b[0;36m0\u001b[0m\u001b[0;34m]\u001b[0m\u001b[0;34m]\u001b[0m\u001b[0;34m[\u001b[0m\u001b[0mcouple\u001b[0m\u001b[0;34m[\u001b[0m\u001b[0;36m1\u001b[0m\u001b[0;34m]\u001b[0m\u001b[0;34m]\u001b[0m\u001b[0;34m\u001b[0m\u001b[0;34m\u001b[0m\u001b[0m\n\u001b[0m\u001b[1;32m     21\u001b[0m             \u001b[0mdic_d\u001b[0m \u001b[0;34m=\u001b[0m \u001b[0mwlistlist\u001b[0m\u001b[0;34m[\u001b[0m\u001b[0mcouple\u001b[0m\u001b[0;34m[\u001b[0m\u001b[0;36m2\u001b[0m\u001b[0;34m]\u001b[0m\u001b[0;34m]\u001b[0m\u001b[0;34m[\u001b[0m\u001b[0mcouple\u001b[0m\u001b[0;34m[\u001b[0m\u001b[0;36m3\u001b[0m\u001b[0;34m]\u001b[0m\u001b[0;34m]\u001b[0m\u001b[0;34m\u001b[0m\u001b[0;34m\u001b[0m\u001b[0m\n\u001b[1;32m     22\u001b[0m             \u001b[0;32mfor\u001b[0m \u001b[0mpos1\u001b[0m\u001b[0;34m,\u001b[0m \u001b[0mv1\u001b[0m \u001b[0;32min\u001b[0m \u001b[0mdic_g\u001b[0m\u001b[0;34m.\u001b[0m\u001b[0mitems\u001b[0m\u001b[0;34m(\u001b[0m\u001b[0;34m)\u001b[0m\u001b[0;34m:\u001b[0m\u001b[0;34m\u001b[0m\u001b[0;34m\u001b[0m\u001b[0m\n",
      "\u001b[0;31mKeyError\u001b[0m: 0"
     ],
     "output_type": "error"
    }
   ],
   "source": [
    "iter_cyk(iter_cyk([first_non_terminaux_from_words([\"les\", \"élus\", \"votent\", 'la', \"proportionnelle\"])]))"
   ]
  },
  {
   "cell_type": "code",
   "execution_count": 527,
   "metadata": {},
   "outputs": [
    {
     "data": {
      "text/plain": [
       "{'NP': 0.00013318239328760737, 'NC|PONCT': 1.0}"
      ]
     },
     "execution_count": 527,
     "metadata": {},
     "output_type": "execute_result"
    }
   ],
   "source": [
    "grammar_inv[(\"NC\", \"PONCT\")]"
   ]
  },
  {
   "cell_type": "code",
   "execution_count": 543,
   "metadata": {},
   "outputs": [],
   "source": [
    "grammar  = {}\n",
    "parcour_tree_fin(binarize_tree(Tree.fromstring(\"(SENT (NP (NC Nom) (PP (P de) (NP (NC fantaisie)))))\")))"
   ]
  },
  {
   "cell_type": "code",
   "execution_count": 544,
   "metadata": {},
   "outputs": [
    {
     "data": {
      "text/plain": [
       "{'SENT': {('NP',): 1},\n 'NP': {('NC', 'PP'): 1, ('NC',): 1},\n 'PP': {('P', 'NP'): 1}}"
      ]
     },
     "execution_count": 544,
     "metadata": {},
     "output_type": "execute_result"
    }
   ],
   "source": [
    "grammar"
   ]
  },
  {
   "cell_type": "code",
   "execution_count": 541,
   "metadata": {},
   "outputs": [],
   "source": [
    "grammar = normalize_grammar(grammar)\n",
    "still_unit_in_g = True\n",
    "while still_unit_in_g:\n",
    "    grammar, still_unit_in_g = remove_unit_grammar(grammar)\n",
    "\n",
    "#need to renormalize\n",
    "grammar = normalize_grammar(grammar)"
   ]
  },
  {
   "cell_type": "code",
   "execution_count": 619,
   "metadata": {},
   "outputs": [
    {
     "data": {
      "image/png": "[encoded data removed]",
      "text/plain": [
       "Tree('', [Tree('SENT', [Tree('NP', [Tree('NC', ['Nom']), Tree('PP', [Tree('P', ['de']), Tree('NP', [Tree('NC', ['fantaisie'])])])])])])"
      ]
     },
     "metadata": {},
     "output_type": "display_data"
    }
   ],
   "source": [
    "Tree.fromstring(\"( (SENT (NP (NC Nom) (PP (P de) (NP (NC fantaisie))))))\")"
   ]
  },
  {
   "cell_type": "code",
   "execution_count": 632,
   "metadata": {},
   "outputs": [
    {
     "name": "stdout",
     "output_type": "stream",
     "text": [
      "NC\nPP\n[0, 0]\n[1, 1]\nP\nNP\n[0, 1]\n[0, 2]\n"
     ]
    },
    {
     "data": {
      "image/png": "[encoded data removed]",
      "text/plain": [
       "Tree('SENT', [Tree('NP', [Tree('NC', [Tree('Nom', [])]), Tree('PP', [Tree('P', [Tree('de', [])]), Tree('NP', [Tree('NC', [Tree('fantaisie', [])])])])])])"
      ]
     },
     "metadata": {},
     "output_type": "display_data"
    }
   ],
   "source": [
    "tree_from_sentence([\"Nom\", \"de\", \"fantaisie\"])"
   ]
  },
  {
   "cell_type": "code",
   "execution_count": 623,
   "metadata": {},
   "outputs": [
    {
     "data": {
      "text/plain": [
       "[[{'NC': [0.00016554920950252462],\n   'SENT': [2.6258564712812928e-06, 'NP'],\n   'NP': [2.2301794687594544e-05, 'NC'],\n   'AP': [5.559073522583097e-08, 'NC'],\n   'PP': [1.3651931126098523e-08, 'NP'],\n   'COORD': [1.4141911659857034e-08, 'NP']},\n  {'DET': [0.006874241811564901],\n   'P': [0.34069178852643417],\n   'NP': [4.577639882509756e-07, 'DET'],\n   'PP': [0.00029197386382040144, 'P'],\n   'SENT': [4.7092558680709913e-07, 'PP'],\n   'COORD': [2.9027519863727053e-10, 'NP']},\n  {'NC': [8.277460475126231e-05],\n   'SENT': [1.3129282356406464e-06, 'NP'],\n   'NP': [1.1150897343797272e-05, 'NC'],\n   'AP': [2.7795367612915485e-08, 'NC'],\n   'PP': [6.825965563049261e-09, 'NP'],\n   'COORD': [7.070955829928517e-09, 'NP']}],\n [{'NP': [0.0428572881766297, 'NC', 'PP', [0, 0, 0, 1]],\n   'NC|NP': [0.0012903239611752766, 'NC', 'NP', [0, 0, 0, 1]],\n   'NC|PP': [0.82300242525377, 'NC', 'PP', [0, 0, 0, 1]],\n   'NC|COORD': [8.182143063888883e-07, 'NC', 'COORD', [0, 0, 0, 1]],\n   'PP': [0.01583856302179793, 'NP', 'P', [0, 0, 0, 1]],\n   'SENT': [0.0050461000595064, 'NP'],\n   'Srel': [0.00047788767738183414, 'NP', 'PP', [0, 0, 0, 1]],\n   'NP|NP': [0.0001738246902482243, 'NP', 'NP', [0, 0, 0, 1]],\n   'NP|PP': [0.11086994115258551, 'NP', 'PP', [0, 0, 0, 1]],\n   'NP|COORD': [1.1022491455182266e-07, 'NP', 'COORD', [0, 0, 0, 1]],\n   'AP|NP': [4.3328541342353153e-07, 'AP', 'NP', [0, 0, 0, 1]],\n   'AP': [3.7120320688576313e-07, 'AP', 'PP', [0, 0, 0, 1]],\n   'AP|PP': [0.00027636078752645064, 'AP', 'PP', [0, 0, 0, 1]],\n   'AP|COORD': [2.7475295714872e-10, 'AP', 'COORD', [0, 0, 0, 1]],\n   'Sint': [1.1692956851733402e-09, 'PP', 'NP', [0, 0, 0, 1]],\n   'PP|NP': [9.120506344352053e-08, 'PP', 'NP', [0, 0, 0, 1]],\n   'PP|PP': [6.786847524031925e-05, 'PP', 'PP', [0, 0, 0, 1]],\n   'PP|COORD': [6.747362546022444e-11, 'PP', 'COORD', [0, 0, 0, 1]],\n   'COORD|NP': [1.1022491455182264e-07, 'COORD', 'NP', [0, 0, 0, 1]],\n   'COORD|PP': [7.030433808026982e-05, 'COORD', 'PP', [0, 0, 0, 1]],\n   'COORD|COORD': [6.989531677350835e-11, 'COORD', 'COORD', [0, 0, 0, 1]],\n   'COORD': [2.717646682094464e-05, 'NP']},\n  {'NP': [0.0023656661499696, 'DET', 'NC', [0, 1, 0, 2]],\n   'DET|NC': [0.01603123130599887, 'DET', 'NC', [0, 1, 0, 2]],\n   'AP': [1.807663102960875e-09, 'DET', 'AP', [0, 1, 0, 2]],\n   'PP': [0.07900343934193194, 'P', 'NP', [0, 1, 0, 2]],\n   'P|NC': [0.7945180014955534, 'P', 'NC', [0, 1, 0, 2]],\n   'P|NP': [0.10703269075218114, 'P', 'NP', [0, 1, 0, 2]],\n   'SENT': [0.00027853811120609804, 'NP'],\n   'Srel': [7.907528488648594e-06, 'PP', 'NP', [0, 1, 0, 2]],\n   'NP|NP': [1.438124223770371e-07, 'NP', 'NP', [0, 1, 0, 2]],\n   'NP|PP': [8.803404895753986e-11, 'NP', 'PP', [0, 1, 0, 2]],\n   'NP|COORD': [9.119367303553399e-11, 'NP', 'COORD', [0, 1, 0, 2]],\n   'PP|NC': [0.0006809042618105867, 'PP', 'NC', [0, 1, 0, 2]],\n   'Sint': [1.0079926425090517e-06, 'PP', 'NP', [0, 1, 0, 2]],\n   'PP|NP': [7.862342611570603e-05, 'PP', 'NP', [0, 1, 0, 2]],\n   'PP|AP': [2.2864481592027764e-07, 'PP', 'AP', [0, 1, 0, 2]],\n   'PP|PP': [5.615042266670158e-08, 'PP', 'PP', [0, 1, 0, 2]],\n   'PP|COORD': [5.81657136768064e-08, 'PP', 'COORD', [0, 1, 0, 2]],\n   'COORD|NC': [6.76942851198524e-10, 'COORD', 'NC', [0, 1, 0, 2]],\n   'COORD|NP': [9.119367303553399e-11, 'COORD', 'NP', [0, 1, 0, 2]],\n   'COORD|AP': [2.273145907315393e-13, 'COORD', 'AP', [0, 1, 0, 2]],\n   'COORD|PP': [5.5823746961027176e-14, 'COORD', 'PP', [0, 1, 0, 2]],\n   'COORD|COORD': [5.78273132755447e-14, 'COORD', 'COORD', [0, 1, 0, 2]],\n   'COORD': [1.5001053582559289e-06, 'NP']}],\n [{'NP': [0.03787926612559853, 'NC', 'PP', [0, 0, 1, 1]],\n   'NC|NP': [0.021781382487179597, 'NC', 'NP', [0, 0, 1, 1]],\n   'NC|AP': [1.66436846780171e-08, 'NC', 'AP', [0, 0, 1, 1]],\n   'NC|PP': [0.7274078509055156, 'NC', 'PP', [0, 0, 1, 1]],\n   'NC|Srel': [7.280693539185044e-05, 'NC', 'Srel', [0, 0, 1, 1]],\n   'NC|COORD': [1.3811910264540009e-05, 'NC', 'COORD', [0, 0, 1, 1]],\n   'SENT': [0.004459978108336601, 'NP'],\n   'Srel': [0.0014893430626954781, 'NP', 'NP', [1, 0, 0, 2]],\n   'NP|NP': [0.02657904542656546, 'NP', 'NP', [1, 0, 0, 2]],\n   'NP|PP': [0.09799201454230924, 'NP', 'PP', [0, 0, 1, 1]],\n   'PP': [0.0002925619939893127, 'NP', 'P|NP', [0, 0, 1, 1]],\n   'NP|COORD': [1.6854182261614114e-05, 'NP', 'COORD', [1, 0, 0, 2]],\n   'AP|NP': [7.314097544385358e-06, 'AP', 'NP', [0, 0, 1, 1]],\n   'AP|AP': [5.73837619476869e-10, 'AP', 'AP', [1, 0, 0, 2]],\n   'AP': [3.280866722680068e-07, 'AP', 'PP', [0, 0, 1, 1]],\n   'AP|PP': [0.0002442605275035311, 'AP', 'PP', [0, 0, 1, 1]],\n   'AP|Srel': [2.444826574608813e-08, 'AP', 'Srel', [0, 0, 1, 1]],\n   'AP|COORD': [4.637981955856283e-09, 'AP', 'COORD', [0, 0, 1, 1]],\n   'Sint': [0.00010794165605628592, 'PP', 'NP', [1, 0, 0, 2]],\n   'PP|NP': [0.008419449172390299, 'PP', 'NP', [1, 0, 0, 2]],\n   'PP|AP': [2.4484603397189762e-05, 'PP', 'AP', [1, 0, 0, 2]],\n   'PP|PP': [5.998531742305904e-05, 'PP', 'PP', [0, 0, 1, 1]],\n   'PP|Srel': [6.003986793163693e-09, 'PP', 'Srel', [0, 0, 1, 1]],\n   'PP|COORD': [6.228719531466085e-06, 'PP', 'COORD', [1, 0, 0, 2]],\n   'COORD|NP': [1.6854182261614114e-05, 'COORD', 'NP', [1, 0, 0, 2]],\n   'COORD|AP': [4.201170339329066e-08, 'COORD', 'AP', [1, 0, 0, 2]],\n   'COORD|PP': [6.213824638066533e-05, 'COORD', 'PP', [0, 0, 1, 1]],\n   'COORD|Srel': [6.219475475784532e-09, 'COORD', 'Srel', [0, 0, 1, 1]],\n   'COORD|COORD': [1.0687496678258791e-08, 'COORD', 'COORD', [1, 0, 0, 2]],\n   'PP|NC': [0.07291514891683111, 'PP', 'NC', [1, 0, 0, 2]],\n   'AP|NC': [1.708888430802116e-06, 'AP', 'NC', [1, 0, 0, 2]],\n   'COORD|NC': [0.00012511085270521956, 'COORD', 'NC', [1, 0, 0, 2]],\n   'COORD': [2.4019826332021897e-05, 'NP']}]]"
      ]
     },
     "execution_count": 623,
     "metadata": {},
     "output_type": "execute_result"
    }
   ],
   "source": [
    "cyk([\"Nom\", \"de\", \"fantaisie\"])"
   ]
  },
  {
   "cell_type": "code",
   "execution_count": 622,
   "metadata": {},
   "outputs": [
    {
     "data": {
      "image/png": "[encoded data removed]",
      "text/plain": [
       "Tree('NPP|NPP|PONCT|Srel', [Tree('fantaisie', [])])"
      ]
     },
     "metadata": {},
     "output_type": "display_data"
    }
   ],
   "source": [
    "Tree(pos, _create_sub_tree(cyk([\"Nom\", \"de\", \"fantaisie\"]), 'NP', [0, 2], [\"Nom\", \"de\", \"fantaisie\"]))"
   ]
  },
  {
   "cell_type": "code",
   "execution_count": 625,
   "metadata": {},
   "outputs": [
    {
     "data": {
      "text/plain": [
       "'NC'"
      ]
     },
     "execution_count": 625,
     "metadata": {},
     "output_type": "execute_result"
    }
   ],
   "source": [
    "cyk([\"Nom\", \"de\", \"fantaisie\"])[0][2]['NP'][1]"
   ]
  },
  {
   "cell_type": "code",
   "execution_count": 339,
   "metadata": {},
   "outputs": [
    {
     "name": "stdout",
     "output_type": "stream",
     "text": [
      "{'Amélioration': {'NC': 1}, 'de': {'P': 1}, 'la': {'DET': 1}, 'sécurité': {'NC': 1}, 'Pourquoi': {'ADVWH': 1}, 'ce': {'DET': 1}, 'thème': {'NC': 1}, '?': {'PONCT': 1}}\n{'SENT': {('NP',): 1, ('ADVWH', 'NP', 'PONCT'): 1}, 'NP': {('NC', 'PP'): 1, ('DET', 'NC'): 2}, 'PP': {('P', 'NP'): 1}}\n"
     ]
    },
    {
     "data": {
      "image/png": "[encoded data removed]",
      "text/plain": [
       "Tree('SENT', [Tree('ADVWH', ['Pourquoi']), Tree('NP', [Tree('DET', ['ce']), Tree('NC', ['thème'])]), Tree('PONCT', ['?'])])"
      ]
     },
     "metadata": {},
     "output_type": "display_data"
    }
   ],
   "source": [
    "#sanity check\n",
    "s = \"( (SENT (NP (NC Amélioration) (PP (P de) (NP (DET la) (NC sécurité))))))\"\n",
    "s2 = \"( (SENT (ADVWH Pourquoi) (NP (DET ce) (NC thème)) (PONCT ?)))\"\n",
    "s3 = \"( (SENT (NP (NC Espoir))))\"\n",
    "S = '( (SENT (NP-SUJ (DET Cette) (NC exposition)) (VN (CLO-A_OBJ nous) (V apprend)) (Ssub-OBJ (CS que) (PP-MOD (P dès) (NP (DET le) (ADJ XIIe) (NC siècle))) (PONCT ,) (PP-MOD (P à) (NP (NPP Dammarie-sur-Saulx))) (PONCT ,) (PP-MOD (P entre) (NP (ADJ autres) (NC sites))) (PONCT ,) (NP-SUJ (DET une) (NC industrie) (AP (ADJ métallurgique))) (VN (V existait))) (PONCT .)))'\n",
    "t = Tree.fromstring(s2[2: -1])\n",
    "parcour_tree_fin(t)\n",
    "print(lexicon)\n",
    "print(grammar)\n",
    "t"
   ]
  },
  {
   "cell_type": "code",
   "execution_count": null,
   "metadata": {},
   "outputs": [],
   "source": [
    "def binarize_rule(father, children, count):\n",
    "    new_pos = 'NEW'+str(count)\n",
    "    p = grammar[father][children]\n",
    "    grammar_chomsky[father] = grammar_chomsky.get(father, {})\n",
    "    grammar_chomsky[father][(children[0], new_pos)] = p\n",
    "    count += 1\n",
    "    for child in children[1: -2]:\n",
    "        new_pos = 'NEW'+str(count)\n",
    "        grammar_chomsky[father][(child, new_pos)] = grammar_chomsky[father].get((child, new_pos), )\n",
    "\n",
    "def binarize_grammar(g):\n",
    "    count = 1\n",
    "    for pos in g.keys():\n",
    "        for key in g[pos].keys():\n",
    "            if len(key)>2:\n",
    "                "
   ]
  },
  {
   "cell_type": "code",
   "execution_count": 319,
   "metadata": {},
   "outputs": [
    {
     "data": {
      "text/plain": [
       "'SENT'"
      ]
     },
     "execution_count": 319,
     "metadata": {},
     "output_type": "execute_result"
    }
   ],
   "source": [
    "t.label()"
   ]
  },
  {
   "cell_type": "code",
   "execution_count": 324,
   "metadata": {},
   "outputs": [
    {
     "data": {
      "text/plain": [
       "{('SENT', 'ADVWH'): 'NEW0'}"
      ]
     },
     "execution_count": 324,
     "metadata": {},
     "output_type": "execute_result"
    }
   ],
   "source": [
    "storage"
   ]
  },
  {
   "cell_type": "code",
   "execution_count": 322,
   "metadata": {},
   "outputs": [],
   "source": [
    ""
   ]
  },
  {
   "cell_type": "code",
   "execution_count": 358,
   "metadata": {},
   "outputs": [],
   "source": [
    ""
   ]
  },
  {
   "cell_type": "code",
   "execution_count": 359,
   "metadata": {},
   "outputs": [],
   "source": [
    ""
   ]
  },
  {
   "cell_type": "code",
   "execution_count": 363,
   "metadata": {},
   "outputs": [
    {
     "name": "stdout",
     "output_type": "stream",
     "text": [
      "3749\n39\n"
     ]
    }
   ],
   "source": [
    ""
   ]
  },
  {
   "cell_type": "code",
   "execution_count": 171,
   "metadata": {},
   "outputs": [],
   "source": [
    ""
   ]
  },
  {
   "cell_type": "code",
   "execution_count": 175,
   "metadata": {},
   "outputs": [
    {
     "data": {
      "text/plain": [
       "2480"
      ]
     },
     "execution_count": 175,
     "metadata": {},
     "output_type": "execute_result"
    }
   ],
   "source": [
    ""
   ]
  },
  {
   "cell_type": "code",
   "execution_count": 88,
   "metadata": {},
   "outputs": [],
   "source": [
    "s2 = \"(SENT (NP-SUJ (DET Les) (NC enfants)) (VN (V fêtent)) (NP-OBJ (NC saint) (NPP Honoré)))\""
   ]
  },
  {
   "cell_type": "code",
   "execution_count": 115,
   "metadata": {},
   "outputs": [
    {
     "data": {
      "text/plain": [
       "['Une', 'nouvelle', 'école', 'pour', 'la', 'commune']"
      ]
     },
     "execution_count": 115,
     "metadata": {},
     "output_type": "execute_result"
    }
   ],
   "source": [
    "t.leaves()"
   ]
  },
  {
   "cell_type": "code",
   "execution_count": 178,
   "metadata": {},
   "outputs": [],
   "source": [
    "l1 = []\n",
    "l2 = []\n",
    "\n",
    "def is_not_POS(x, phrase):\n",
    "    t = Tree.fromstring(phrase)\n",
    "    return x in t.leaves()\n",
    "\n",
    "def remove_leaf(p):\n",
    "    t = Tree.fromstring(p)\n",
    "    for w in t.leaves():\n",
    "        p = p.replace(\" \" + w, \"\")\n",
    "    return p\n",
    "\n",
    "def remove_function(p):\n",
    "    return re.sub(r'-[^ ]*', \"\", p)\n",
    "\n",
    "def deal_with_P(p):\n",
    "    return remove_function(remove_leaf(p[2: -1]))\n",
    "\n",
    "def parcour_tree(t):\n",
    "    for child in t:\n",
    "        l.append([t.label(), child.label()])\n",
    "        parcour_tree(child)\n",
    "        \n",
    "def parcour_tree_fin(t):\n",
    "    if len(t[0])==0:\n",
    "        l1.append([remove_function(t.label()), t[0].label()])\n",
    "    else:\n",
    "        for child in t:\n",
    "            l2.append([remove_function(t.label()), remove_function(t[0].label())])"
   ]
  },
  {
   "cell_type": "code",
   "execution_count": 177,
   "metadata": {},
   "outputs": [
    {
     "data": {
      "text/plain": [
       "'ADJ '"
      ]
     },
     "execution_count": 177,
     "metadata": {},
     "output_type": "execute_result"
    }
   ],
   "source": [
    "remove_function('ADJ-OBJ ')"
   ]
  },
  {
   "cell_type": "code",
   "execution_count": 14,
   "metadata": {},
   "outputs": [],
   "source": [
    "r = t.productions()"
   ]
  },
  {
   "cell_type": "code",
   "execution_count": 15,
   "metadata": {},
   "outputs": [
    {
     "data": {
      "text/plain": [
       "[SENT -> NP,\n NP -> DET ADJ NC PP,\n DET -> ,\n ADJ -> ,\n NC -> ,\n PP -> P NP,\n P -> ,\n NP -> DET NC,\n DET -> ,\n NC -> ]"
      ]
     },
     "execution_count": 15,
     "metadata": {},
     "output_type": "execute_result"
    }
   ],
   "source": [
    "r"
   ]
  },
  {
   "cell_type": "code",
   "execution_count": 62,
   "metadata": {},
   "outputs": [
    {
     "name": "stdout",
     "output_type": "stream",
     "text": [
      "(\n  (SENT\n    (NP\n      (DET Une)\n      (ADJ nouvelle)\n      (NC école)\n      (PP (P pour) (NP (DET la) (NC commune))))))\n(SENT\n  (NP\n    (DET Une)\n    (ADJ nouvelle)\n    (NC école)\n    (PP (P pour) (NP (DET la) (NC commune)))))\n(NP\n  (DET Une)\n  (ADJ nouvelle)\n  (NC école)\n  (PP (P pour) (NP (DET la) (NC commune))))\n(DET Une)\n(ADJ nouvelle)\n(NC école)\n(PP (P pour) (NP (DET la) (NC commune)))\n(P pour)\n(NP (DET la) (NC commune))\n(DET la)\n(NC commune)\n"
     ]
    }
   ],
   "source": [
    "for u in t.subtrees():\n",
    "    print(u)"
   ]
  },
  {
   "cell_type": "code",
   "execution_count": 9,
   "metadata": {},
   "outputs": [],
   "source": [
    "t = [Tree.fromstring(\"( (SENT (PP (P) (NP (DET) (NC) (PP (P) (NP (NC))))) (PONCT)))\"),\n",
    "Tree.fromstring(\"(SENT (NP (DET) (ADJ) (NC) (PP (P) (NP (DET) (NC)))))\")]"
   ]
  },
  {
   "cell_type": "code",
   "execution_count": 10,
   "metadata": {},
   "outputs": [
    {
     "ename": "AttributeError",
     "evalue": "'list' object has no attribute 'productions'",
     "traceback": [
      "\u001b[0;31m---------------------------------------------------------------------------\u001b[0m",
      "\u001b[0;31mAttributeError\u001b[0m                            Traceback (most recent call last)",
      "\u001b[0;32m<ipython-input-10-4d88ad231903>\u001b[0m in \u001b[0;36m<module>\u001b[0;34m\u001b[0m\n\u001b[0;32m----> 1\u001b[0;31m \u001b[0mt\u001b[0m\u001b[0;34m.\u001b[0m\u001b[0mproductions\u001b[0m\u001b[0;34m(\u001b[0m\u001b[0;34m)\u001b[0m\u001b[0;34m\u001b[0m\u001b[0;34m\u001b[0m\u001b[0m\n\u001b[0m",
      "\u001b[0;31mAttributeError\u001b[0m: 'list' object has no attribute 'productions'"
     ],
     "output_type": "error"
    }
   ],
   "source": [
    "t.productions()"
   ]
  },
  {
   "cell_type": "code",
   "execution_count": 123,
   "metadata": {},
   "outputs": [
    {
     "data": {
      "text/plain": [
       "'abfhghfdbf dzdz'"
      ]
     },
     "execution_count": 123,
     "metadata": {},
     "output_type": "execute_result"
    }
   ],
   "source": [
    "re.sub(r'-[^ ]*', \"\", \"abfhghfdbf-azaz dzdz\")"
   ]
  },
  {
   "cell_type": "code",
   "execution_count": null,
   "metadata": {},
   "outputs": [],
   "source": [
    ""
   ]
  }
 ],
 "metadata": {
  "kernelspec": {
   "display_name": "Python 2",
   "language": "python",
   "name": "python2"
  },
  "language_info": {
   "codemirror_mode": {
    "name": "ipython",
    "version": 2.0
   },
   "file_extension": ".py",
   "mimetype": "text/x-python",
   "name": "python",
   "nbconvert_exporter": "python",
   "pygments_lexer": "ipython2",
   "version": "2.7.6"
  }
 },
 "nbformat": 4,
 "nbformat_minor": 0
}